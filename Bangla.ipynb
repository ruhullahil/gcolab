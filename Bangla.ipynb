{
  "nbformat": 4,
  "nbformat_minor": 0,
  "metadata": {
    "colab": {
      "name": "Bangla.ipynb",
      "provenance": [],
      "collapsed_sections": [],
      "include_colab_link": true
    },
    "kernelspec": {
      "name": "python3",
      "display_name": "Python 3"
    },
    "accelerator": "GPU",
    "widgets": {
      "application/vnd.jupyter.widget-state+json": {
        "8c6b002b37e74a6bb9082bfa5aead234": {
          "model_module": "@jupyter-widgets/controls",
          "model_name": "HBoxModel",
          "state": {
            "_view_name": "HBoxView",
            "_dom_classes": [],
            "_model_name": "HBoxModel",
            "_view_module": "@jupyter-widgets/controls",
            "_model_module_version": "1.5.0",
            "_view_count": null,
            "_view_module_version": "1.5.0",
            "box_style": "",
            "layout": "IPY_MODEL_4c02b763302d4765a747c2c3164d8d25",
            "_model_module": "@jupyter-widgets/controls",
            "children": [
              "IPY_MODEL_8c965c4d80a4468eb4e01e9d5d980eee",
              "IPY_MODEL_fa25e5bcb1204dcba3dc578dc23e146a"
            ]
          }
        },
        "4c02b763302d4765a747c2c3164d8d25": {
          "model_module": "@jupyter-widgets/base",
          "model_name": "LayoutModel",
          "state": {
            "_view_name": "LayoutView",
            "grid_template_rows": null,
            "right": null,
            "justify_content": null,
            "_view_module": "@jupyter-widgets/base",
            "overflow": null,
            "_model_module_version": "1.2.0",
            "_view_count": null,
            "flex_flow": null,
            "width": null,
            "min_width": null,
            "border": null,
            "align_items": null,
            "bottom": null,
            "_model_module": "@jupyter-widgets/base",
            "top": null,
            "grid_column": null,
            "overflow_y": null,
            "overflow_x": null,
            "grid_auto_flow": null,
            "grid_area": null,
            "grid_template_columns": null,
            "flex": null,
            "_model_name": "LayoutModel",
            "justify_items": null,
            "grid_row": null,
            "max_height": null,
            "align_content": null,
            "visibility": null,
            "align_self": null,
            "height": null,
            "min_height": null,
            "padding": null,
            "grid_auto_rows": null,
            "grid_gap": null,
            "max_width": null,
            "order": null,
            "_view_module_version": "1.2.0",
            "grid_template_areas": null,
            "object_position": null,
            "object_fit": null,
            "grid_auto_columns": null,
            "margin": null,
            "display": null,
            "left": null
          }
        },
        "8c965c4d80a4468eb4e01e9d5d980eee": {
          "model_module": "@jupyter-widgets/controls",
          "model_name": "IntProgressModel",
          "state": {
            "_view_name": "ProgressView",
            "style": "IPY_MODEL_feb9347f5c1440bbac579d3450d0ddc1",
            "_dom_classes": [],
            "description": "",
            "_model_name": "IntProgressModel",
            "bar_style": "success",
            "max": 41526,
            "_view_module": "@jupyter-widgets/controls",
            "_model_module_version": "1.5.0",
            "value": 41526,
            "_view_count": null,
            "_view_module_version": "1.5.0",
            "orientation": "horizontal",
            "min": 0,
            "description_tooltip": null,
            "_model_module": "@jupyter-widgets/controls",
            "layout": "IPY_MODEL_6b8daedbe70c4211bef39168f7aa8afb"
          }
        },
        "fa25e5bcb1204dcba3dc578dc23e146a": {
          "model_module": "@jupyter-widgets/controls",
          "model_name": "HTMLModel",
          "state": {
            "_view_name": "HTMLView",
            "style": "IPY_MODEL_35e6cfb3a5d6462d9e6c045b4c39c91e",
            "_dom_classes": [],
            "description": "",
            "_model_name": "HTMLModel",
            "placeholder": "​",
            "_view_module": "@jupyter-widgets/controls",
            "_model_module_version": "1.5.0",
            "value": "100% 41526/41526 [00:27&lt;00:00, 1528.43it/s]",
            "_view_count": null,
            "_view_module_version": "1.5.0",
            "description_tooltip": null,
            "_model_module": "@jupyter-widgets/controls",
            "layout": "IPY_MODEL_63f3272679514306b6bcbbfd37d6dcc9"
          }
        },
        "feb9347f5c1440bbac579d3450d0ddc1": {
          "model_module": "@jupyter-widgets/controls",
          "model_name": "ProgressStyleModel",
          "state": {
            "_view_name": "StyleView",
            "_model_name": "ProgressStyleModel",
            "description_width": "",
            "_view_module": "@jupyter-widgets/base",
            "_model_module_version": "1.5.0",
            "_view_count": null,
            "_view_module_version": "1.2.0",
            "bar_color": null,
            "_model_module": "@jupyter-widgets/controls"
          }
        },
        "6b8daedbe70c4211bef39168f7aa8afb": {
          "model_module": "@jupyter-widgets/base",
          "model_name": "LayoutModel",
          "state": {
            "_view_name": "LayoutView",
            "grid_template_rows": null,
            "right": null,
            "justify_content": null,
            "_view_module": "@jupyter-widgets/base",
            "overflow": null,
            "_model_module_version": "1.2.0",
            "_view_count": null,
            "flex_flow": null,
            "width": null,
            "min_width": null,
            "border": null,
            "align_items": null,
            "bottom": null,
            "_model_module": "@jupyter-widgets/base",
            "top": null,
            "grid_column": null,
            "overflow_y": null,
            "overflow_x": null,
            "grid_auto_flow": null,
            "grid_area": null,
            "grid_template_columns": null,
            "flex": null,
            "_model_name": "LayoutModel",
            "justify_items": null,
            "grid_row": null,
            "max_height": null,
            "align_content": null,
            "visibility": null,
            "align_self": null,
            "height": null,
            "min_height": null,
            "padding": null,
            "grid_auto_rows": null,
            "grid_gap": null,
            "max_width": null,
            "order": null,
            "_view_module_version": "1.2.0",
            "grid_template_areas": null,
            "object_position": null,
            "object_fit": null,
            "grid_auto_columns": null,
            "margin": null,
            "display": null,
            "left": null
          }
        },
        "35e6cfb3a5d6462d9e6c045b4c39c91e": {
          "model_module": "@jupyter-widgets/controls",
          "model_name": "DescriptionStyleModel",
          "state": {
            "_view_name": "StyleView",
            "_model_name": "DescriptionStyleModel",
            "description_width": "",
            "_view_module": "@jupyter-widgets/base",
            "_model_module_version": "1.5.0",
            "_view_count": null,
            "_view_module_version": "1.2.0",
            "_model_module": "@jupyter-widgets/controls"
          }
        },
        "63f3272679514306b6bcbbfd37d6dcc9": {
          "model_module": "@jupyter-widgets/base",
          "model_name": "LayoutModel",
          "state": {
            "_view_name": "LayoutView",
            "grid_template_rows": null,
            "right": null,
            "justify_content": null,
            "_view_module": "@jupyter-widgets/base",
            "overflow": null,
            "_model_module_version": "1.2.0",
            "_view_count": null,
            "flex_flow": null,
            "width": null,
            "min_width": null,
            "border": null,
            "align_items": null,
            "bottom": null,
            "_model_module": "@jupyter-widgets/base",
            "top": null,
            "grid_column": null,
            "overflow_y": null,
            "overflow_x": null,
            "grid_auto_flow": null,
            "grid_area": null,
            "grid_template_columns": null,
            "flex": null,
            "_model_name": "LayoutModel",
            "justify_items": null,
            "grid_row": null,
            "max_height": null,
            "align_content": null,
            "visibility": null,
            "align_self": null,
            "height": null,
            "min_height": null,
            "padding": null,
            "grid_auto_rows": null,
            "grid_gap": null,
            "max_width": null,
            "order": null,
            "_view_module_version": "1.2.0",
            "grid_template_areas": null,
            "object_position": null,
            "object_fit": null,
            "grid_auto_columns": null,
            "margin": null,
            "display": null,
            "left": null
          }
        }
      }
    }
  },
  "cells": [
    {
      "cell_type": "markdown",
      "metadata": {
        "id": "view-in-github",
        "colab_type": "text"
      },
      "source": [
        "<a href=\"https://colab.research.google.com/github/ruhullahil/gcolab/blob/master/Bangla.ipynb\" target=\"_parent\"><img src=\"https://colab.research.google.com/assets/colab-badge.svg\" alt=\"Open In Colab\"/></a>"
      ]
    },
    {
      "cell_type": "code",
      "metadata": {
        "id": "dg_9FP6LwBkz",
        "colab_type": "code",
        "colab": {}
      },
      "source": [
        "%tensorflow_version 2.x\n",
        "import tensorflow as tf\n",
        "from tensorflow.keras import backend as K"
      ],
      "execution_count": 0,
      "outputs": []
    },
    {
      "cell_type": "code",
      "metadata": {
        "id": "8jsKY9VBNKQM",
        "colab_type": "code",
        "outputId": "780d0d35-04a6-4aa0-ef61-9246ba71808a",
        "colab": {
          "base_uri": "https://localhost:8080/",
          "height": 34
        }
      },
      "source": [
        "from google.colab import drive\n",
        "drive.mount('/content/drive')"
      ],
      "execution_count": 0,
      "outputs": [
        {
          "output_type": "stream",
          "text": [
            "Drive already mounted at /content/drive; to attempt to forcibly remount, call drive.mount(\"/content/drive\", force_remount=True).\n"
          ],
          "name": "stdout"
        }
      ]
    },
    {
      "cell_type": "code",
      "metadata": {
        "id": "KhPVg_W7wYB4",
        "colab_type": "code",
        "colab": {}
      },
      "source": [
        "import numpy as np\n",
        "from pathlib import Path\n",
        "import os\n",
        "from PIL import Image\n",
        "import matplotlib.pyplot as plt\n",
        "from tqdm import tqdm_notebook \n",
        "from sklearn.model_selection import train_test_split\n",
        "\n",
        "from keras.utils import np_utils\n",
        "\n",
        "# Disable Warnings\n",
        "import os\n",
        "os.environ['TF_CPP_MIN_LOG_LEVEL'] = '2'\n",
        "\n",
        "# Importing sequential model\n",
        "from tensorflow.keras.models import Sequential\n",
        "\n",
        "# Importing convolutional layers\n",
        "from tensorflow.keras.layers import Conv2D\n",
        "from tensorflow.keras.layers import MaxPooling2D\n",
        "\n",
        "from tensorflow.keras.layers import BatchNormalization\n",
        "\n",
        "from tensorflow.python.keras.layers import Input, Dense, Activation, Flatten, Dropout\n",
        "\n",
        "# Importing MNIST dataset\n",
        "from tensorflow.keras.datasets import mnist\n",
        "\n",
        "# Importing optimizers\n",
        "from tensorflow.keras.optimizers import SGD, RMSprop, Adam\n",
        "\n",
        "# One Hot Encoding (OHE)\n",
        "from tensorflow.keras.utils import to_categorical\n",
        "\n",
        "# Importing numpy and matplotlib\n",
        "import numpy as np\n",
        "import matplotlib.pyplot as plt"
      ],
      "execution_count": 0,
      "outputs": []
    },
    {
      "cell_type": "code",
      "metadata": {
        "id": "E6uyA1xSz2i9",
        "colab_type": "code",
        "outputId": "44c720a3-c94a-4dcb-b9d3-ad443943fda7",
        "colab": {
          "base_uri": "https://localhost:8080/",
          "height": 54
        }
      },
      "source": [
        "!unzip '/content/drive/My Drive/Colab Notebooks/Datasets/BanglaLekha-Isolated.zip '"
      ],
      "execution_count": 0,
      "outputs": [
        {
          "output_type": "stream",
          "text": [
            "unzip:  cannot find or open /content/drive/My Drive/Colab Notebooks/Datasets/BanglaLekha-Isolated.zip , /content/drive/My Drive/Colab Notebooks/Datasets/BanglaLekha-Isolated.zip .zip or /content/drive/My Drive/Colab Notebooks/Datasets/BanglaLekha-Isolated.zip .ZIP.\n"
          ],
          "name": "stdout"
        }
      ]
    },
    {
      "cell_type": "code",
      "metadata": {
        "id": "oTaxooLtwchU",
        "colab_type": "code",
        "colab": {}
      },
      "source": [
        "\n",
        "fileDirectories = [filedir for filedir in Path('./BanglaLekha-Isolated/Images/').glob('**/*.png')]\n",
        "\n",
        "#fileDirectories = fileDirectories(log_dir=\"./BanglaLekha-Isolated\".glob('**/*.png'))"
      ],
      "execution_count": 0,
      "outputs": []
    },
    {
      "cell_type": "code",
      "metadata": {
        "id": "7mTpWqthwfUf",
        "colab_type": "code",
        "outputId": "f58a0392-6633-4f76-90a8-d345c36ea24a",
        "colab": {
          "base_uri": "https://localhost:8080/",
          "height": 34
        }
      },
      "source": [
        "print(len(fileDirectories))"
      ],
      "execution_count": 0,
      "outputs": [
        {
          "output_type": "stream",
          "text": [
            "166105\n"
          ],
          "name": "stdout"
        }
      ]
    },
    {
      "cell_type": "code",
      "metadata": {
        "id": "iwv6v7kawiW2",
        "colab_type": "code",
        "colab": {}
      },
      "source": [
        "def getCharName(dirAddress):\n",
        "    fileName = str(dirAddress).split('\\\\')[-1]\n",
        "    #print(fileName)\n",
        "    fileName = fileName.split('.')[0]\n",
        "    charName = fileName.split('_')[-1]\n",
        "    return int(charName)\n",
        "    \n",
        "#print(fileDirectories[0], \"=\", getCharName(fileDirectories[0]))"
      ],
      "execution_count": 0,
      "outputs": []
    },
    {
      "cell_type": "code",
      "metadata": {
        "id": "LcZ-R_6cwkEr",
        "colab_type": "code",
        "colab": {}
      },
      "source": [
        "# Image dimention: (total_image, width, height)\n",
        "def plotFigs(images, rows=1, columns=1, title=None):\n",
        "    fig=plt.figure(figsize=(10, 4))\n",
        "    if title:\n",
        "        fig.suptitle(title)\n",
        "    \n",
        "    for i, img in enumerate(images):\n",
        "        fig.add_subplot(rows, columns, i+1)\n",
        "        plt.imshow(img, cmap='gray')\n",
        "\n",
        "    plt.show()"
      ],
      "execution_count": 0,
      "outputs": []
    },
    {
      "cell_type": "code",
      "metadata": {
        "id": "OM1OAfjEwl4E",
        "colab_type": "code",
        "colab": {}
      },
      "source": [
        "fileDirectories = np.array(fileDirectories)\n",
        "np.random.shuffle(fileDirectories)\n",
        "\n",
        "half = len(fileDirectories)//4"
      ],
      "execution_count": 0,
      "outputs": []
    },
    {
      "cell_type": "code",
      "metadata": {
        "id": "uk42zuL-wnZy",
        "colab_type": "code",
        "outputId": "54f88c1a-a20c-4770-b89d-eae8e0237b22",
        "colab": {
          "base_uri": "https://localhost:8080/",
          "height": 66,
          "referenced_widgets": [
            "8c6b002b37e74a6bb9082bfa5aead234",
            "4c02b763302d4765a747c2c3164d8d25",
            "8c965c4d80a4468eb4e01e9d5d980eee",
            "fa25e5bcb1204dcba3dc578dc23e146a",
            "feb9347f5c1440bbac579d3450d0ddc1",
            "6b8daedbe70c4211bef39168f7aa8afb",
            "35e6cfb3a5d6462d9e6c045b4c39c91e",
            "63f3272679514306b6bcbbfd37d6dcc9"
          ]
        }
      },
      "source": [
        "imgs = []\n",
        "imgClass = []\n",
        "\n",
        "for imgDir in tqdm_notebook(fileDirectories[:half]):\n",
        "    img = np.array(Image.open(imgDir).resize((80, 80), Image.ANTIALIAS))\n",
        "    imgs.append(img)\n",
        "    imgClass.append(getCharName(imgDir))"
      ],
      "execution_count": 0,
      "outputs": [
        {
          "output_type": "display_data",
          "data": {
            "application/vnd.jupyter.widget-view+json": {
              "model_id": "8c6b002b37e74a6bb9082bfa5aead234",
              "version_minor": 0,
              "version_major": 2
            },
            "text/plain": [
              "HBox(children=(IntProgress(value=0, max=41526), HTML(value='')))"
            ]
          },
          "metadata": {
            "tags": []
          }
        },
        {
          "output_type": "stream",
          "text": [
            "\n"
          ],
          "name": "stdout"
        }
      ]
    },
    {
      "cell_type": "code",
      "metadata": {
        "id": "oCAJOXXswo-3",
        "colab_type": "code",
        "colab": {}
      },
      "source": [
        "imgs = np.array(imgs)\n",
        "imgClass = np.array(imgClass)"
      ],
      "execution_count": 0,
      "outputs": []
    },
    {
      "cell_type": "code",
      "metadata": {
        "id": "PaMvF1OFwqgM",
        "colab_type": "code",
        "outputId": "2b665aee-5fa4-46e7-a6ec-677ad2ef6771",
        "colab": {
          "base_uri": "https://localhost:8080/",
          "height": 267
        }
      },
      "source": [
        "plotFigs(imgs[:20], 2, 10, \"name {}\".format(imgClass[:20]))"
      ],
      "execution_count": 0,
      "outputs": [
        {
          "output_type": "display_data",
          "data": {
            "image/png": "[encoded data removed]",
            "text/plain": [
              "<Figure size 720x288 with 20 Axes>"
            ]
          },
          "metadata": {
            "tags": []
          }
        }
      ]
    },
    {
      "cell_type": "code",
      "metadata": {
        "id": "GhrZgmP_ws0y",
        "colab_type": "code",
        "outputId": "b6fe05c1-5853-456c-8e42-8ed64a8171bb",
        "colab": {
          "base_uri": "https://localhost:8080/",
          "height": 34
        }
      },
      "source": [
        "print(imgs.shape)"
      ],
      "execution_count": 0,
      "outputs": [
        {
          "output_type": "stream",
          "text": [
            "(41526, 80, 80)\n"
          ],
          "name": "stdout"
        }
      ]
    },
    {
      "cell_type": "code",
      "metadata": {
        "id": "R_Clm2Nxw1W1",
        "colab_type": "code",
        "colab": {}
      },
      "source": [
        "# Define ConvNet\n",
        "class LeNet:\n",
        "    @staticmethod\n",
        "    def build(input_shape, classes):\n",
        "        model = Sequential()\n",
        "        \n",
        "        # Conv -> ReLU -> Pooling\n",
        "        model.add(Conv2D(32, kernel_size=5, padding='same', input_shape=input_shape))\n",
        "        model.add(Activation('relu'))\n",
        "        model.add(BatchNormalization())\n",
        "        model.add(MaxPooling2D(pool_size=(2, 2)))\n",
        "        model.add(Dropout(0.2))\n",
        "        \n",
        "        # Conv -> ReLU -> Pooling\n",
        "        model.add(Conv2D(16, kernel_size=5, input_shape='same'))\n",
        "        model.add(Activation('relu'))\n",
        "        model.add(BatchNormalization())\n",
        "        model.add(MaxPooling2D(pool_size=(2, 2)))\n",
        "        model.add(Dropout(0.2))\n",
        "        \n",
        "        model.add(Conv2D(16, kernel_size=5, input_shape='same'))\n",
        "        model.add(Activation('relu'))\n",
        "        model.add(BatchNormalization())\n",
        "        model.add(MaxPooling2D(pool_size=(2, 2)))\n",
        "        model.add(Dropout(0.2))\n",
        "                          \n",
        "        # Flattern -> ReLU\n",
        "        model.add(Flatten())\n",
        "        model.add(Activation('relu'))\n",
        "        model.add(BatchNormalization())\n",
        "        model.add(Dropout(0.2))\n",
        "        \n",
        "        model.add(Dense(40))\n",
        "        model.add(Activation('relu'))\n",
        "        model.add(BatchNormalization())\n",
        "        model.add(Dropout(0.2))\n",
        "        \n",
        "        # SoftMax\n",
        "        model.add(Dense(classes))\n",
        "        model.add(Activation('softmax'))\n",
        "        \n",
        "        model.summary()\n",
        "        return model"
      ],
      "execution_count": 0,
      "outputs": []
    },
    {
      "cell_type": "code",
      "metadata": {
        "id": "yZAJ3Tuow3mF",
        "colab_type": "code",
        "outputId": "3f7d689a-74f8-4424-a72d-dd01ea8bcd35",
        "colab": {
          "base_uri": "https://localhost:8080/",
          "height": 87
        }
      },
      "source": [
        "#model = LeNet.build()\n",
        "X_train, X_test, y_train, y_test = train_test_split(imgs, imgClass, test_size=0.33, random_state=42)\n",
        "\n",
        "print(len(np.unique(imgClass)), len(np.unique(y_test)), len(np.unique(y_train)))\n",
        "\n",
        "print(y_train.shape)\n",
        "\n",
        "#y_train = np.reshape(y_train, (len(y_train), -1))\n",
        "#y_test = np.reshape(y_test, (len(y_test), -1))\n",
        "\n",
        "print(y_train.shape, y_test.shape)\n",
        "print(y_train[0])"
      ],
      "execution_count": 0,
      "outputs": [
        {
          "output_type": "stream",
          "text": [
            "84 84 84\n",
            "(27822,)\n",
            "(27822,) (13704,)\n",
            "67\n"
          ],
          "name": "stdout"
        }
      ]
    },
    {
      "cell_type": "code",
      "metadata": {
        "id": "tEogDCK7w5Rn",
        "colab_type": "code",
        "colab": {}
      },
      "source": [
        "\n",
        "# Constants & Hyper-Parameters\n",
        "NB_EPOCH = 40\n",
        "BATCH_SIZE = 64\n",
        "VERBOSE = 1\n",
        "OPTIMIZER = Adam()\n",
        "VALIDATION_SPLIT = 0.2\n",
        "IMG_ROWS, IMG_COLS = X_train.shape[1:]\n",
        "NB_CLASSES = len(np.unique(imgClass))+1\n",
        "INPUT_SHAPE = (1, IMG_ROWS, IMG_COLS)"
      ],
      "execution_count": 0,
      "outputs": []
    },
    {
      "cell_type": "code",
      "metadata": {
        "id": "3nI3d46aw68Z",
        "colab_type": "code",
        "outputId": "4e81ee50-21be-4f0a-e23c-a09ed7b3f64d",
        "colab": {
          "base_uri": "https://localhost:8080/",
          "height": 52
        }
      },
      "source": [
        "\n",
        "# Setting Image ordering to theano : (channels, rows, columns)\n",
        "# Updated keras uses this command\n",
        "K.set_image_data_format('channels_first')\n",
        "#K.set_image_dim_ordering('th')\n",
        "\n",
        "# Normalize\n",
        "X_train = X_train.astype('float32')\n",
        "X_test = X_test.astype('float32')\n",
        "X_train /= 255\n",
        "X_test /= 255\n",
        "\n",
        "print(X_train.shape, 'train samples previous')\n",
        "# we need a 60K x [1 x 28 x 28] shape as input to the CONVNET\n",
        "X_train = X_train[:, np.newaxis, :, :]\n",
        "X_test = X_test[:, np.newaxis, :, :]\n",
        "print(X_train.shape, 'train samples')\n",
        "\n",
        "# convert class vectors to binary class matrices\n",
        "y_train = np_utils.to_categorical(y_train, NB_CLASSES)\n",
        "y_test = np_utils.to_categorical(y_test, NB_CLASSES)"
      ],
      "execution_count": 0,
      "outputs": [
        {
          "output_type": "stream",
          "text": [
            "(27822, 80, 80) train samples previous\n",
            "(27822, 1, 80, 80) train samples\n"
          ],
          "name": "stdout"
        }
      ]
    },
    {
      "cell_type": "code",
      "metadata": {
        "id": "F1QVekQSw8dJ",
        "colab_type": "code",
        "outputId": "c8e266d0-2e40-441c-f2f1-6bc49c542072",
        "colab": {
          "base_uri": "https://localhost:8080/",
          "height": 1000
        }
      },
      "source": [
        "model = LeNet.build(input_shape=INPUT_SHAPE, classes=NB_CLASSES)\n",
        "\n",
        "model.compile(loss=\"categorical_crossentropy\", optimizer=OPTIMIZER, \n",
        "              metrics=[\"accuracy\"])\n",
        "\n",
        "history = model.fit(X_train, y_train, \n",
        "                    batch_size=BATCH_SIZE, epochs=NB_EPOCH,\n",
        "                    verbose=1, validation_split=VALIDATION_SPLIT,\n",
        "                   use_multiprocessing=True)\n",
        "\n",
        "score = model.evaluate(X_test, y_test, verbose=VERBOSE)\n",
        "\n",
        "print(\"Test score:\", score[0], '\\nTest accuracy:', score[1])"
      ],
      "execution_count": 0,
      "outputs": [
        {
          "output_type": "stream",
          "text": [
            "Model: \"sequential\"\n",
            "_________________________________________________________________\n",
            "Layer (type)                 Output Shape              Param #   \n",
            "=================================================================\n",
            "conv2d (Conv2D)              (None, 32, 80, 80)        832       \n",
            "_________________________________________________________________\n",
            "activation (Activation)      (None, 32, 80, 80)        0         \n",
            "_________________________________________________________________\n",
            "batch_normalization (BatchNo (None, 32, 80, 80)        320       \n",
            "_________________________________________________________________\n",
            "max_pooling2d (MaxPooling2D) (None, 32, 40, 40)        0         \n",
            "_________________________________________________________________\n",
            "dropout (Dropout)            (None, 32, 40, 40)        0         \n",
            "_________________________________________________________________\n",
            "conv2d_1 (Conv2D)            (None, 16, 36, 36)        12816     \n",
            "_________________________________________________________________\n",
            "activation_1 (Activation)    (None, 16, 36, 36)        0         \n",
            "_________________________________________________________________\n",
            "batch_normalization_1 (Batch (None, 16, 36, 36)        144       \n",
            "_________________________________________________________________\n",
            "max_pooling2d_1 (MaxPooling2 (None, 16, 18, 18)        0         \n",
            "_________________________________________________________________\n",
            "dropout_1 (Dropout)          (None, 16, 18, 18)        0         \n",
            "_________________________________________________________________\n",
            "conv2d_2 (Conv2D)            (None, 16, 14, 14)        6416      \n",
            "_________________________________________________________________\n",
            "activation_2 (Activation)    (None, 16, 14, 14)        0         \n",
            "_________________________________________________________________\n",
            "batch_normalization_2 (Batch (None, 16, 14, 14)        56        \n",
            "_________________________________________________________________\n",
            "max_pooling2d_2 (MaxPooling2 (None, 16, 7, 7)          0         \n",
            "_________________________________________________________________\n",
            "dropout_2 (Dropout)          (None, 16, 7, 7)          0         \n",
            "_________________________________________________________________\n",
            "flatten (Flatten)            (None, 784)               0         \n",
            "_________________________________________________________________\n",
            "activation_3 (Activation)    (None, 784)               0         \n",
            "_________________________________________________________________\n",
            "batch_normalization_3 (Batch (None, 784)               3136      \n",
            "_________________________________________________________________\n",
            "dropout_3 (Dropout)          (None, 784)               0         \n",
            "_________________________________________________________________\n",
            "dense (Dense)                (None, 40)                31400     \n",
            "_________________________________________________________________\n",
            "activation_4 (Activation)    (None, 40)                0         \n",
            "_________________________________________________________________\n",
            "batch_normalization_4 (Batch (None, 40)                160       \n",
            "_________________________________________________________________\n",
            "dropout_4 (Dropout)          (None, 40)                0         \n",
            "_________________________________________________________________\n",
            "dense_1 (Dense)              (None, 85)                3485      \n",
            "_________________________________________________________________\n",
            "activation_5 (Activation)    (None, 85)                0         \n",
            "=================================================================\n",
            "Total params: 58,765\n",
            "Trainable params: 56,857\n",
            "Non-trainable params: 1,908\n",
            "_________________________________________________________________\n",
            "Train on 22257 samples, validate on 5565 samples\n",
            "Epoch 1/40\n",
            "22257/22257 [==============================] - 18s 787us/sample - loss: 3.7652 - accuracy: 0.1447 - val_loss: 4.3957 - val_accuracy: 0.0473\n",
            "Epoch 2/40\n",
            "22257/22257 [==============================] - 10s 443us/sample - loss: 2.4574 - accuracy: 0.3899 - val_loss: 1.8750 - val_accuracy: 0.5360\n",
            "Epoch 3/40\n",
            "22257/22257 [==============================] - 10s 440us/sample - loss: 1.7954 - accuracy: 0.5332 - val_loss: 1.3017 - val_accuracy: 0.6717\n",
            "Epoch 4/40\n",
            "22257/22257 [==============================] - 10s 443us/sample - loss: 1.5093 - accuracy: 0.5937 - val_loss: 1.1563 - val_accuracy: 0.6985\n",
            "Epoch 5/40\n",
            "22257/22257 [==============================] - 10s 443us/sample - loss: 1.3587 - accuracy: 0.6324 - val_loss: 1.0366 - val_accuracy: 0.7305\n",
            "Epoch 6/40\n",
            "22257/22257 [==============================] - 10s 446us/sample - loss: 1.2543 - accuracy: 0.6519 - val_loss: 0.9494 - val_accuracy: 0.7511\n",
            "Epoch 7/40\n",
            "22257/22257 [==============================] - 10s 445us/sample - loss: 1.1811 - accuracy: 0.6715 - val_loss: 0.9242 - val_accuracy: 0.7515\n",
            "Epoch 8/40\n",
            "22257/22257 [==============================] - 10s 440us/sample - loss: 1.1268 - accuracy: 0.6885 - val_loss: 0.8465 - val_accuracy: 0.7802\n",
            "Epoch 9/40\n",
            "22257/22257 [==============================] - 10s 442us/sample - loss: 1.0974 - accuracy: 0.6954 - val_loss: 0.8462 - val_accuracy: 0.7756\n",
            "Epoch 10/40\n",
            "22257/22257 [==============================] - 10s 443us/sample - loss: 1.0553 - accuracy: 0.7051 - val_loss: 0.7926 - val_accuracy: 0.7849\n",
            "Epoch 11/40\n",
            "22257/22257 [==============================] - 10s 441us/sample - loss: 1.0285 - accuracy: 0.7098 - val_loss: 0.8224 - val_accuracy: 0.7817\n",
            "Epoch 12/40\n",
            "22257/22257 [==============================] - 10s 443us/sample - loss: 1.0008 - accuracy: 0.7186 - val_loss: 0.7324 - val_accuracy: 0.8075\n",
            "Epoch 13/40\n",
            "22257/22257 [==============================] - 10s 442us/sample - loss: 0.9735 - accuracy: 0.7246 - val_loss: 0.7618 - val_accuracy: 0.8000\n",
            "Epoch 14/40\n",
            "22257/22257 [==============================] - 10s 442us/sample - loss: 0.9544 - accuracy: 0.7321 - val_loss: 0.7050 - val_accuracy: 0.8171\n",
            "Epoch 15/40\n",
            "22257/22257 [==============================] - 10s 440us/sample - loss: 0.9424 - accuracy: 0.7339 - val_loss: 0.7245 - val_accuracy: 0.8049\n",
            "Epoch 16/40\n",
            "22257/22257 [==============================] - 10s 440us/sample - loss: 0.9154 - accuracy: 0.7404 - val_loss: 0.7165 - val_accuracy: 0.8102\n",
            "Epoch 17/40\n",
            "22257/22257 [==============================] - 10s 444us/sample - loss: 0.9244 - accuracy: 0.7385 - val_loss: 0.7322 - val_accuracy: 0.8047\n",
            "Epoch 18/40\n",
            "22257/22257 [==============================] - 10s 442us/sample - loss: 0.9035 - accuracy: 0.7449 - val_loss: 0.6955 - val_accuracy: 0.8138\n",
            "Epoch 19/40\n",
            "22257/22257 [==============================] - 10s 444us/sample - loss: 0.8887 - accuracy: 0.7476 - val_loss: 0.6856 - val_accuracy: 0.8156\n",
            "Epoch 20/40\n",
            "22257/22257 [==============================] - 10s 440us/sample - loss: 0.8827 - accuracy: 0.7513 - val_loss: 0.6660 - val_accuracy: 0.8255\n",
            "Epoch 21/40\n",
            "22257/22257 [==============================] - 10s 441us/sample - loss: 0.8681 - accuracy: 0.7515 - val_loss: 0.6896 - val_accuracy: 0.8149\n",
            "Epoch 22/40\n",
            "22257/22257 [==============================] - 10s 441us/sample - loss: 0.8613 - accuracy: 0.7542 - val_loss: 0.6821 - val_accuracy: 0.8174\n",
            "Epoch 23/40\n",
            "22257/22257 [==============================] - 10s 441us/sample - loss: 0.8550 - accuracy: 0.7568 - val_loss: 0.6529 - val_accuracy: 0.8271\n",
            "Epoch 24/40\n",
            "22257/22257 [==============================] - 10s 442us/sample - loss: 0.8516 - accuracy: 0.7545 - val_loss: 0.6686 - val_accuracy: 0.8225\n",
            "Epoch 25/40\n",
            "22257/22257 [==============================] - 10s 443us/sample - loss: 0.8450 - accuracy: 0.7631 - val_loss: 0.6715 - val_accuracy: 0.8252\n",
            "Epoch 26/40\n",
            "22257/22257 [==============================] - 10s 443us/sample - loss: 0.8318 - accuracy: 0.7619 - val_loss: 0.6623 - val_accuracy: 0.8253\n",
            "Epoch 27/40\n",
            "22257/22257 [==============================] - 10s 446us/sample - loss: 0.8255 - accuracy: 0.7629 - val_loss: 0.6285 - val_accuracy: 0.8336\n",
            "Epoch 28/40\n",
            "22257/22257 [==============================] - 10s 444us/sample - loss: 0.8256 - accuracy: 0.7666 - val_loss: 0.6369 - val_accuracy: 0.8347\n",
            "Epoch 29/40\n",
            "22257/22257 [==============================] - 10s 439us/sample - loss: 0.8132 - accuracy: 0.7674 - val_loss: 0.6454 - val_accuracy: 0.8282\n",
            "Epoch 30/40\n",
            "22257/22257 [==============================] - 10s 442us/sample - loss: 0.8162 - accuracy: 0.7625 - val_loss: 0.6877 - val_accuracy: 0.8155\n",
            "Epoch 31/40\n",
            "22257/22257 [==============================] - 10s 441us/sample - loss: 0.8036 - accuracy: 0.7664 - val_loss: 0.6430 - val_accuracy: 0.8282\n",
            "Epoch 32/40\n",
            "22257/22257 [==============================] - 10s 440us/sample - loss: 0.8065 - accuracy: 0.7651 - val_loss: 0.6329 - val_accuracy: 0.8316\n",
            "Epoch 33/40\n",
            "22257/22257 [==============================] - 10s 442us/sample - loss: 0.7922 - accuracy: 0.7715 - val_loss: 0.7070 - val_accuracy: 0.8041\n",
            "Epoch 34/40\n",
            "22257/22257 [==============================] - 10s 443us/sample - loss: 0.7904 - accuracy: 0.7730 - val_loss: 0.6970 - val_accuracy: 0.8165\n",
            "Epoch 35/40\n",
            "22257/22257 [==============================] - 10s 443us/sample - loss: 0.7900 - accuracy: 0.7728 - val_loss: 0.6592 - val_accuracy: 0.8196\n",
            "Epoch 36/40\n",
            "22257/22257 [==============================] - 10s 443us/sample - loss: 0.7951 - accuracy: 0.7683 - val_loss: 0.6253 - val_accuracy: 0.8341\n",
            "Epoch 37/40\n",
            "22257/22257 [==============================] - 10s 441us/sample - loss: 0.7792 - accuracy: 0.7733 - val_loss: 0.6301 - val_accuracy: 0.8340\n",
            "Epoch 38/40\n",
            "22257/22257 [==============================] - 10s 448us/sample - loss: 0.7786 - accuracy: 0.7714 - val_loss: 0.6197 - val_accuracy: 0.8345\n",
            "Epoch 39/40\n",
            "22257/22257 [==============================] - 10s 442us/sample - loss: 0.7696 - accuracy: 0.7784 - val_loss: 0.6503 - val_accuracy: 0.8273\n",
            "Epoch 40/40\n",
            "22257/22257 [==============================] - 10s 441us/sample - loss: 0.7631 - accuracy: 0.7778 - val_loss: 0.6166 - val_accuracy: 0.8361\n",
            "13704/13704 [==============================] - 3s 205us/sample - loss: 0.6161 - accuracy: 0.8366\n",
            "Test score: 0.6160558667088278 \n",
            "Test accuracy: 0.83661705\n"
          ],
          "name": "stdout"
        }
      ]
    },
    {
      "cell_type": "code",
      "metadata": {
        "id": "kLYr4zR5w-EI",
        "colab_type": "code",
        "outputId": "ceaecf15-01df-4999-cc8e-3c9651cd31ac",
        "colab": {
          "base_uri": "https://localhost:8080/",
          "height": 591
        }
      },
      "source": [
        "# list all data in history\n",
        "print(history.history.keys())\n",
        "\n",
        "# summarize history for accuracy\n",
        "plt.plot(history.history['accuracy'])\n",
        "plt.plot(history.history['val_accuracy'])\n",
        "plt.title('model accuracy')\n",
        "plt.ylabel('accuracy')\n",
        "plt.xlabel('epoch')\n",
        "plt.legend(['train', 'test'], loc='upper left')\n",
        "plt.show()\n",
        "\n",
        "# summarize history for loss\n",
        "plt.plot(history.history['loss'])\n",
        "plt.plot(history.history['val_loss'])\n",
        "plt.title('model loss')\n",
        "plt.ylabel('loss')\n",
        "plt.xlabel('epoch')\n",
        "plt.legend(['train', 'test'], loc='upper left')\n",
        "plt.show()"
      ],
      "execution_count": 0,
      "outputs": [
        {
          "output_type": "stream",
          "text": [
            "dict_keys(['loss', 'accuracy', 'val_loss', 'val_accuracy'])\n"
          ],
          "name": "stdout"
        },
        {
          "output_type": "display_data",
          "data": {
            "image/png": "[encoded data removed]",
            "text/plain": [
              "<Figure size 432x288 with 1 Axes>"
            ]
          },
          "metadata": {
            "tags": []
          }
        },
        {
          "output_type": "display_data",
          "data": {
            "image/png": "[encoded data removed]",
            "text/plain": [
              "<Figure size 432x288 with 1 Axes>"
            ]
          },
          "metadata": {
            "tags": []
          }
        }
      ]
    },
    {
      "cell_type": "code",
      "metadata": {
        "id": "clZPLfE13N5z",
        "colab_type": "code",
        "colab": {}
      },
      "source": [
        ""
      ],
      "execution_count": 0,
      "outputs": []
    }
  ]
}