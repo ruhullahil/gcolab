{
  "nbformat": 4,
  "nbformat_minor": 0,
  "metadata": {
    "kernelspec": {
      "display_name": "Python 3",
      "language": "python",
      "name": "python3"
    },
    "language_info": {
      "codemirror_mode": {
        "name": "ipython",
        "version": 3
      },
      "file_extension": ".py",
      "mimetype": "text/x-python",
      "name": "python",
      "nbconvert_exporter": "python",
      "pygments_lexer": "ipython3",
      "version": "3.7.3"
    },
    "colab": {
      "name": "laqb.ipynb",
      "provenance": [],
      "toc_visible": true,
      "include_colab_link": true
    }
  },
  "cells": [
    {
      "cell_type": "markdown",
      "metadata": {
        "id": "view-in-github",
        "colab_type": "text"
      },
      "source": [
        "<a href=\"https://colab.research.google.com/github/ruhullahil/gcolab/blob/master/laqb.ipynb\" target=\"_parent\"><img src=\"https://colab.research.google.com/assets/colab-badge.svg\" alt=\"Open In Colab\"/></a>"
      ]
    },
    {
      "cell_type": "code",
      "metadata": {
        "id": "ZHEs1o6T7h50",
        "colab_type": "code",
        "colab": {}
      },
      "source": [
        "import pandas as pd\n",
        "import numpy as np\n",
        "import matplotlib.pyplot as plt\n",
        "import seaborn as sns\n",
        "from pandas.api.types import is_numeric_dtype\n",
        "%matplotlib inline"
      ],
      "execution_count": 0,
      "outputs": []
    },
    {
      "cell_type": "code",
      "metadata": {
        "id": "6R8ecfGi7h58",
        "colab_type": "code",
        "outputId": "e6cad3f3-78da-43db-828a-3740ee5667a7",
        "colab": {
          "base_uri": "https://localhost:8080/",
          "height": 204
        }
      },
      "source": [
        "data = pd.read_csv('laqb.csv')\n",
        "data.head()"
      ],
      "execution_count": 0,
      "outputs": [
        {
          "output_type": "execute_result",
          "data": {
            "text/html": [
              "<div>\n",
              "<style scoped>\n",
              "    .dataframe tbody tr th:only-of-type {\n",
              "        vertical-align: middle;\n",
              "    }\n",
              "\n",
              "    .dataframe tbody tr th {\n",
              "        vertical-align: top;\n",
              "    }\n",
              "\n",
              "    .dataframe thead th {\n",
              "        text-align: right;\n",
              "    }\n",
              "</style>\n",
              "<table border=\"1\" class=\"dataframe\">\n",
              "  <thead>\n",
              "    <tr style=\"text-align: right;\">\n",
              "      <th></th>\n",
              "      <th>id</th>\n",
              "      <th>date</th>\n",
              "      <th>price</th>\n",
              "      <th>bedrooms</th>\n",
              "      <th>bathrooms</th>\n",
              "      <th>sqft_living</th>\n",
              "      <th>sqft_lot</th>\n",
              "      <th>floors</th>\n",
              "    </tr>\n",
              "  </thead>\n",
              "  <tbody>\n",
              "    <tr>\n",
              "      <th>0</th>\n",
              "      <td>7129300520</td>\n",
              "      <td>20141013T000000</td>\n",
              "      <td>221900.0</td>\n",
              "      <td>3</td>\n",
              "      <td>1.00</td>\n",
              "      <td>1180</td>\n",
              "      <td>5650</td>\n",
              "      <td>1.0</td>\n",
              "    </tr>\n",
              "    <tr>\n",
              "      <th>1</th>\n",
              "      <td>6414100192</td>\n",
              "      <td>20141209T000000</td>\n",
              "      <td>538000.0</td>\n",
              "      <td>3</td>\n",
              "      <td>2.25</td>\n",
              "      <td>2570</td>\n",
              "      <td>7242</td>\n",
              "      <td>2.0</td>\n",
              "    </tr>\n",
              "    <tr>\n",
              "      <th>2</th>\n",
              "      <td>5631500400</td>\n",
              "      <td>20150225T000000</td>\n",
              "      <td>180000.0</td>\n",
              "      <td>2</td>\n",
              "      <td>1.00</td>\n",
              "      <td>770</td>\n",
              "      <td>10000</td>\n",
              "      <td>1.0</td>\n",
              "    </tr>\n",
              "    <tr>\n",
              "      <th>3</th>\n",
              "      <td>2487200875</td>\n",
              "      <td>20141209T000000</td>\n",
              "      <td>604000.0</td>\n",
              "      <td>4</td>\n",
              "      <td>3.00</td>\n",
              "      <td>1960</td>\n",
              "      <td>5000</td>\n",
              "      <td>1.0</td>\n",
              "    </tr>\n",
              "    <tr>\n",
              "      <th>4</th>\n",
              "      <td>1954400510</td>\n",
              "      <td>20150218T000000</td>\n",
              "      <td>510000.0</td>\n",
              "      <td>3</td>\n",
              "      <td>2.00</td>\n",
              "      <td>1680</td>\n",
              "      <td>8080</td>\n",
              "      <td>1.0</td>\n",
              "    </tr>\n",
              "  </tbody>\n",
              "</table>\n",
              "</div>"
            ],
            "text/plain": [
              "           id             date     price  ...  sqft_living  sqft_lot  floors\n",
              "0  7129300520  20141013T000000  221900.0  ...         1180      5650     1.0\n",
              "1  6414100192  20141209T000000  538000.0  ...         2570      7242     2.0\n",
              "2  5631500400  20150225T000000  180000.0  ...          770     10000     1.0\n",
              "3  2487200875  20141209T000000  604000.0  ...         1960      5000     1.0\n",
              "4  1954400510  20150218T000000  510000.0  ...         1680      8080     1.0\n",
              "\n",
              "[5 rows x 8 columns]"
            ]
          },
          "metadata": {
            "tags": []
          },
          "execution_count": 37
        }
      ]
    },
    {
      "cell_type": "code",
      "metadata": {
        "id": "fSrmYOt47h6H",
        "colab_type": "code",
        "colab": {}
      },
      "source": [
        "data.columns = ['number','id', 'date', 'price', 'bedrooms',\n",
        "'sqft_living','sqft_lot','floors']"
      ],
      "execution_count": 0,
      "outputs": []
    },
    {
      "cell_type": "code",
      "metadata": {
        "id": "eweLhxFB7h6K",
        "colab_type": "code",
        "outputId": "3900a27f-80c3-438d-93f5-194bce6e1a8b",
        "colab": {
          "base_uri": "https://localhost:8080/",
          "height": 612
        }
      },
      "source": [
        "\n",
        "\n",
        "for col in data.columns:\n",
        "    if is_numeric_dtype(data[col]):\n",
        "        print('%s:' % (col))\n",
        "        print('\\t Mean = %.2f' % data[col].mean())\n",
        "        print('\\t Standard deviation = %.2f' % data[col].std())\n",
        "        print('\\t Minimum = %.2f' % data[col].min())\n",
        "        print('\\t Maximum = %.2f' % data[col].max())"
      ],
      "execution_count": 0,
      "outputs": [
        {
          "output_type": "stream",
          "text": [
            "number:\n",
            "\t Mean = 4580301520.86\n",
            "\t Standard deviation = 2876565571.31\n",
            "\t Minimum = 1000102.00\n",
            "\t Maximum = 9900000190.00\n",
            "date:\n",
            "\t Mean = 540182.16\n",
            "\t Standard deviation = 367362.23\n",
            "\t Minimum = 75000.00\n",
            "\t Maximum = 7700000.00\n",
            "price:\n",
            "\t Mean = 3.37\n",
            "\t Standard deviation = 0.93\n",
            "\t Minimum = 0.00\n",
            "\t Maximum = 33.00\n",
            "bedrooms:\n",
            "\t Mean = 2.11\n",
            "\t Standard deviation = 0.77\n",
            "\t Minimum = 0.00\n",
            "\t Maximum = 8.00\n",
            "sqft_living:\n",
            "\t Mean = 2079.90\n",
            "\t Standard deviation = 918.44\n",
            "\t Minimum = 290.00\n",
            "\t Maximum = 13540.00\n",
            "sqft_lot:\n",
            "\t Mean = 15106.97\n",
            "\t Standard deviation = 41420.51\n",
            "\t Minimum = 520.00\n",
            "\t Maximum = 1651359.00\n",
            "floors:\n",
            "\t Mean = 1.49\n",
            "\t Standard deviation = 0.54\n",
            "\t Minimum = 1.00\n",
            "\t Maximum = 3.50\n"
          ],
          "name": "stdout"
        }
      ]
    },
    {
      "cell_type": "code",
      "metadata": {
        "id": "wkw0_YfB7h6O",
        "colab_type": "code",
        "outputId": "941e2a30-3703-465e-f195-da81017e7a47",
        "colab": {
          "base_uri": "https://localhost:8080/",
          "height": 390
        }
      },
      "source": [
        "data.describe(include='all')"
      ],
      "execution_count": 0,
      "outputs": [
        {
          "output_type": "execute_result",
          "data": {
            "text/html": [
              "<div>\n",
              "<style scoped>\n",
              "    .dataframe tbody tr th:only-of-type {\n",
              "        vertical-align: middle;\n",
              "    }\n",
              "\n",
              "    .dataframe tbody tr th {\n",
              "        vertical-align: top;\n",
              "    }\n",
              "\n",
              "    .dataframe thead th {\n",
              "        text-align: right;\n",
              "    }\n",
              "</style>\n",
              "<table border=\"1\" class=\"dataframe\">\n",
              "  <thead>\n",
              "    <tr style=\"text-align: right;\">\n",
              "      <th></th>\n",
              "      <th>number</th>\n",
              "      <th>id</th>\n",
              "      <th>date</th>\n",
              "      <th>price</th>\n",
              "      <th>bedrooms</th>\n",
              "      <th>sqft_living</th>\n",
              "      <th>sqft_lot</th>\n",
              "      <th>floors</th>\n",
              "    </tr>\n",
              "  </thead>\n",
              "  <tbody>\n",
              "    <tr>\n",
              "      <th>count</th>\n",
              "      <td>2.161300e+04</td>\n",
              "      <td>21613</td>\n",
              "      <td>2.161300e+04</td>\n",
              "      <td>21613.000000</td>\n",
              "      <td>21613.000000</td>\n",
              "      <td>21613.000000</td>\n",
              "      <td>2.161300e+04</td>\n",
              "      <td>21613.000000</td>\n",
              "    </tr>\n",
              "    <tr>\n",
              "      <th>unique</th>\n",
              "      <td>NaN</td>\n",
              "      <td>372</td>\n",
              "      <td>NaN</td>\n",
              "      <td>NaN</td>\n",
              "      <td>NaN</td>\n",
              "      <td>NaN</td>\n",
              "      <td>NaN</td>\n",
              "      <td>NaN</td>\n",
              "    </tr>\n",
              "    <tr>\n",
              "      <th>top</th>\n",
              "      <td>NaN</td>\n",
              "      <td>20140623T000000</td>\n",
              "      <td>NaN</td>\n",
              "      <td>NaN</td>\n",
              "      <td>NaN</td>\n",
              "      <td>NaN</td>\n",
              "      <td>NaN</td>\n",
              "      <td>NaN</td>\n",
              "    </tr>\n",
              "    <tr>\n",
              "      <th>freq</th>\n",
              "      <td>NaN</td>\n",
              "      <td>142</td>\n",
              "      <td>NaN</td>\n",
              "      <td>NaN</td>\n",
              "      <td>NaN</td>\n",
              "      <td>NaN</td>\n",
              "      <td>NaN</td>\n",
              "      <td>NaN</td>\n",
              "    </tr>\n",
              "    <tr>\n",
              "      <th>mean</th>\n",
              "      <td>4.580302e+09</td>\n",
              "      <td>NaN</td>\n",
              "      <td>5.401822e+05</td>\n",
              "      <td>3.370842</td>\n",
              "      <td>2.114757</td>\n",
              "      <td>2079.899736</td>\n",
              "      <td>1.510697e+04</td>\n",
              "      <td>1.494309</td>\n",
              "    </tr>\n",
              "    <tr>\n",
              "      <th>std</th>\n",
              "      <td>2.876566e+09</td>\n",
              "      <td>NaN</td>\n",
              "      <td>3.673622e+05</td>\n",
              "      <td>0.930062</td>\n",
              "      <td>0.770163</td>\n",
              "      <td>918.440897</td>\n",
              "      <td>4.142051e+04</td>\n",
              "      <td>0.539989</td>\n",
              "    </tr>\n",
              "    <tr>\n",
              "      <th>min</th>\n",
              "      <td>1.000102e+06</td>\n",
              "      <td>NaN</td>\n",
              "      <td>7.500000e+04</td>\n",
              "      <td>0.000000</td>\n",
              "      <td>0.000000</td>\n",
              "      <td>290.000000</td>\n",
              "      <td>5.200000e+02</td>\n",
              "      <td>1.000000</td>\n",
              "    </tr>\n",
              "    <tr>\n",
              "      <th>25%</th>\n",
              "      <td>2.123049e+09</td>\n",
              "      <td>NaN</td>\n",
              "      <td>3.219500e+05</td>\n",
              "      <td>3.000000</td>\n",
              "      <td>1.750000</td>\n",
              "      <td>1427.000000</td>\n",
              "      <td>5.040000e+03</td>\n",
              "      <td>1.000000</td>\n",
              "    </tr>\n",
              "    <tr>\n",
              "      <th>50%</th>\n",
              "      <td>3.904930e+09</td>\n",
              "      <td>NaN</td>\n",
              "      <td>4.500000e+05</td>\n",
              "      <td>3.000000</td>\n",
              "      <td>2.250000</td>\n",
              "      <td>1910.000000</td>\n",
              "      <td>7.618000e+03</td>\n",
              "      <td>1.500000</td>\n",
              "    </tr>\n",
              "    <tr>\n",
              "      <th>75%</th>\n",
              "      <td>7.308900e+09</td>\n",
              "      <td>NaN</td>\n",
              "      <td>6.450000e+05</td>\n",
              "      <td>4.000000</td>\n",
              "      <td>2.500000</td>\n",
              "      <td>2550.000000</td>\n",
              "      <td>1.068800e+04</td>\n",
              "      <td>2.000000</td>\n",
              "    </tr>\n",
              "    <tr>\n",
              "      <th>max</th>\n",
              "      <td>9.900000e+09</td>\n",
              "      <td>NaN</td>\n",
              "      <td>7.700000e+06</td>\n",
              "      <td>33.000000</td>\n",
              "      <td>8.000000</td>\n",
              "      <td>13540.000000</td>\n",
              "      <td>1.651359e+06</td>\n",
              "      <td>3.500000</td>\n",
              "    </tr>\n",
              "  </tbody>\n",
              "</table>\n",
              "</div>"
            ],
            "text/plain": [
              "              number               id  ...      sqft_lot        floors\n",
              "count   2.161300e+04            21613  ...  2.161300e+04  21613.000000\n",
              "unique           NaN              372  ...           NaN           NaN\n",
              "top              NaN  20140623T000000  ...           NaN           NaN\n",
              "freq             NaN              142  ...           NaN           NaN\n",
              "mean    4.580302e+09              NaN  ...  1.510697e+04      1.494309\n",
              "std     2.876566e+09              NaN  ...  4.142051e+04      0.539989\n",
              "min     1.000102e+06              NaN  ...  5.200000e+02      1.000000\n",
              "25%     2.123049e+09              NaN  ...  5.040000e+03      1.000000\n",
              "50%     3.904930e+09              NaN  ...  7.618000e+03      1.500000\n",
              "75%     7.308900e+09              NaN  ...  1.068800e+04      2.000000\n",
              "max     9.900000e+09              NaN  ...  1.651359e+06      3.500000\n",
              "\n",
              "[11 rows x 8 columns]"
            ]
          },
          "metadata": {
            "tags": []
          },
          "execution_count": 40
        }
      ]
    },
    {
      "cell_type": "code",
      "metadata": {
        "id": "ZlD3QwcC7h6R",
        "colab_type": "code",
        "outputId": "3564b361-b4e8-4757-c6aa-2741b568653e",
        "colab": {
          "base_uri": "https://localhost:8080/",
          "height": 283
        }
      },
      "source": [
        "print('Covariance:')\n",
        "datafr = pd.DataFrame()\n",
        "data.cov()"
      ],
      "execution_count": 0,
      "outputs": [
        {
          "output_type": "stream",
          "text": [
            "Covariance:\n"
          ],
          "name": "stdout"
        },
        {
          "output_type": "execute_result",
          "data": {
            "text/html": [
              "<div>\n",
              "<style scoped>\n",
              "    .dataframe tbody tr th:only-of-type {\n",
              "        vertical-align: middle;\n",
              "    }\n",
              "\n",
              "    .dataframe tbody tr th {\n",
              "        vertical-align: top;\n",
              "    }\n",
              "\n",
              "    .dataframe thead th {\n",
              "        text-align: right;\n",
              "    }\n",
              "</style>\n",
              "<table border=\"1\" class=\"dataframe\">\n",
              "  <thead>\n",
              "    <tr style=\"text-align: right;\">\n",
              "      <th></th>\n",
              "      <th>number</th>\n",
              "      <th>date</th>\n",
              "      <th>price</th>\n",
              "      <th>bedrooms</th>\n",
              "      <th>sqft_living</th>\n",
              "      <th>sqft_lot</th>\n",
              "      <th>floors</th>\n",
              "    </tr>\n",
              "  </thead>\n",
              "  <tbody>\n",
              "    <tr>\n",
              "      <th>number</th>\n",
              "      <td>8.274629e+18</td>\n",
              "      <td>-1.775045e+13</td>\n",
              "      <td>3.441285e+06</td>\n",
              "      <td>1.143211e+07</td>\n",
              "      <td>-3.238447e+10</td>\n",
              "      <td>-1.574060e+13</td>\n",
              "      <td>2.877549e+07</td>\n",
              "    </tr>\n",
              "    <tr>\n",
              "      <th>date</th>\n",
              "      <td>-1.775045e+13</td>\n",
              "      <td>1.349550e+11</td>\n",
              "      <td>1.053498e+05</td>\n",
              "      <td>1.485756e+05</td>\n",
              "      <td>2.368699e+08</td>\n",
              "      <td>1.364223e+09</td>\n",
              "      <td>5.093897e+04</td>\n",
              "    </tr>\n",
              "    <tr>\n",
              "      <th>price</th>\n",
              "      <td>3.441285e+06</td>\n",
              "      <td>1.053498e+05</td>\n",
              "      <td>8.650150e-01</td>\n",
              "      <td>3.695271e-01</td>\n",
              "      <td>4.925960e+02</td>\n",
              "      <td>1.221324e+03</td>\n",
              "      <td>8.810446e-02</td>\n",
              "    </tr>\n",
              "    <tr>\n",
              "      <th>bedrooms</th>\n",
              "      <td>1.143211e+07</td>\n",
              "      <td>1.485756e+05</td>\n",
              "      <td>3.695271e-01</td>\n",
              "      <td>5.931513e-01</td>\n",
              "      <td>5.338120e+02</td>\n",
              "      <td>2.798944e+03</td>\n",
              "      <td>2.082114e-01</td>\n",
              "    </tr>\n",
              "    <tr>\n",
              "      <th>sqft_living</th>\n",
              "      <td>-3.238447e+10</td>\n",
              "      <td>2.368699e+08</td>\n",
              "      <td>4.925960e+02</td>\n",
              "      <td>5.338120e+02</td>\n",
              "      <td>8.435337e+05</td>\n",
              "      <td>6.574684e+06</td>\n",
              "      <td>1.755404e+02</td>\n",
              "    </tr>\n",
              "    <tr>\n",
              "      <th>sqft_lot</th>\n",
              "      <td>-1.574060e+13</td>\n",
              "      <td>1.364223e+09</td>\n",
              "      <td>1.221324e+03</td>\n",
              "      <td>2.798944e+03</td>\n",
              "      <td>6.574684e+06</td>\n",
              "      <td>1.715659e+09</td>\n",
              "      <td>-1.163286e+02</td>\n",
              "    </tr>\n",
              "    <tr>\n",
              "      <th>floors</th>\n",
              "      <td>2.877549e+07</td>\n",
              "      <td>5.093897e+04</td>\n",
              "      <td>8.810446e-02</td>\n",
              "      <td>2.082114e-01</td>\n",
              "      <td>1.755404e+02</td>\n",
              "      <td>-1.163286e+02</td>\n",
              "      <td>2.915880e-01</td>\n",
              "    </tr>\n",
              "  </tbody>\n",
              "</table>\n",
              "</div>"
            ],
            "text/plain": [
              "                   number          date  ...      sqft_lot        floors\n",
              "number       8.274629e+18 -1.775045e+13  ... -1.574060e+13  2.877549e+07\n",
              "date        -1.775045e+13  1.349550e+11  ...  1.364223e+09  5.093897e+04\n",
              "price        3.441285e+06  1.053498e+05  ...  1.221324e+03  8.810446e-02\n",
              "bedrooms     1.143211e+07  1.485756e+05  ...  2.798944e+03  2.082114e-01\n",
              "sqft_living -3.238447e+10  2.368699e+08  ...  6.574684e+06  1.755404e+02\n",
              "sqft_lot    -1.574060e+13  1.364223e+09  ...  1.715659e+09 -1.163286e+02\n",
              "floors       2.877549e+07  5.093897e+04  ... -1.163286e+02  2.915880e-01\n",
              "\n",
              "[7 rows x 7 columns]"
            ]
          },
          "metadata": {
            "tags": []
          },
          "execution_count": 41
        }
      ]
    },
    {
      "cell_type": "code",
      "metadata": {
        "id": "ttugCC2a7h6V",
        "colab_type": "code",
        "outputId": "e1d6d303-1405-4240-a55f-d1565c655be2",
        "colab": {
          "base_uri": "https://localhost:8080/",
          "height": 459
        }
      },
      "source": [
        "plt.figure(figsize=(14, 7))\n",
        "sns.boxplot(x='bedrooms',y='price', data=data ,palette='rainbow')"
      ],
      "execution_count": 0,
      "outputs": [
        {
          "output_type": "execute_result",
          "data": {
            "text/plain": [
              "<matplotlib.axes._subplots.AxesSubplot at 0x7f291abc8dd8>"
            ]
          },
          "metadata": {
            "tags": []
          },
          "execution_count": 47
        },
        {
          "output_type": "display_data",
          "data": {
            "image/png": "[encoded data removed]",
            "text/plain": [
              "<Figure size 1008x504 with 1 Axes>"
            ]
          },
          "metadata": {
            "tags": []
          }
        }
      ]
    }
  ]
}