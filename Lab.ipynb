{
  "nbformat": 4,
  "nbformat_minor": 0,
  "metadata": {
    "colab": {
      "name": "Lab.ipynb",
      "provenance": [],
      "include_colab_link": true
    },
    "kernelspec": {
      "name": "python3",
      "display_name": "Python 3"
    },
    "accelerator": "GPU"
  },
  "cells": [
    {
      "cell_type": "markdown",
      "metadata": {
        "id": "view-in-github",
        "colab_type": "text"
      },
      "source": [
        "<a href=\"https://colab.research.google.com/github/ruhullahil/gcolab/blob/master/Lab.ipynb\" target=\"_parent\"><img src=\"https://colab.research.google.com/assets/colab-badge.svg\" alt=\"Open In Colab\"/></a>"
      ]
    },
    {
      "cell_type": "code",
      "metadata": {
        "id": "OuSed1NrYpqr",
        "colab_type": "code",
        "colab": {}
      },
      "source": [
        "def segmoyed(x):\n",
        "  return np.exp(x)/(np.exp(x)+1)\n",
        "  \n",
        "   "
      ],
      "execution_count": 0,
      "outputs": []
    },
    {
      "cell_type": "code",
      "metadata": {
        "id": "OuPkwanqRADA",
        "colab_type": "code",
        "outputId": "abd0c467-5402-4388-f1a3-9cef6881dfcf",
        "colab": {
          "base_uri": "https://localhost:8080/",
          "height": 68
        }
      },
      "source": [
        "import numpy as np\n",
        "\n",
        "_input = np.array([0,1,0])\n",
        "h1= np.random.rand(3,3)\n",
        "h2 = np.random.rand(3,2)\n",
        "h3 = np.random.rand(2,1)\n",
        "h1_i=segmoyed(np.dot(_input,h1))\n",
        "print(h1_i)\n",
        "h2_i =segmoyed(np.dot(h1_i,h2))\n",
        "print(h2_i)\n",
        "output = segmoyed(np.dot(h2_i,h3))\n",
        "print(output)\n",
        "\n",
        "\n"
      ],
      "execution_count": 0,
      "outputs": [
        {
          "output_type": "stream",
          "text": [
            "[0.66409505 0.63776302 0.52523975]\n",
            "[0.75664749 0.69587463]\n",
            "[0.73384996]\n"
          ],
          "name": "stdout"
        }
      ]
    }
  ]
}