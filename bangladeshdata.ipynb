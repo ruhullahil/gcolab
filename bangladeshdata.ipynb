{
  "nbformat": 4,
  "nbformat_minor": 0,
  "metadata": {
    "colab": {
      "name": "bangladeshdata.ipynb",
      "provenance": [],
      "collapsed_sections": [],
      "authorship_tag": "ABX9TyOHwdbXvA7KppICQ9ogwcWv",
      "include_colab_link": true
    },
    "kernelspec": {
      "name": "python3",
      "display_name": "Python 3"
    },
    "accelerator": "GPU"
  },
  "cells": [
    {
      "cell_type": "markdown",
      "metadata": {
        "id": "view-in-github",
        "colab_type": "text"
      },
      "source": [
        "<a href=\"https://colab.research.google.com/github/ruhullahil/gcolab/blob/master/bangladeshdata.ipynb\" target=\"_parent\"><img src=\"https://colab.research.google.com/assets/colab-badge.svg\" alt=\"Open In Colab\"/></a>"
      ]
    },
    {
      "cell_type": "code",
      "metadata": {
        "id": "Wx5XWXSxvTNu",
        "colab_type": "code",
        "colab": {}
      },
      "source": [
        "import numpy as np \n",
        "import pandas as pd \n",
        "import matplotlib.pyplot as plt\n"
      ],
      "execution_count": 0,
      "outputs": []
    },
    {
      "cell_type": "code",
      "metadata": {
        "id": "a9ORO8cCw7N7",
        "colab_type": "code",
        "colab": {}
      },
      "source": [
        "data = pd.read_csv('bdg_pop_adm1.csv')\n",
        "male=data['Male']\n",
        "female = data['Female']\n",
        "\n",
        "devition = data['admin1Name_en']\n",
        "\n",
        "\n"
      ],
      "execution_count": 0,
      "outputs": []
    },
    {
      "cell_type": "code",
      "metadata": {
        "id": "IIPueFyIPaze",
        "colab_type": "code",
        "outputId": "7095da15-1cd3-4a6d-de1c-f7c368429529",
        "colab": {
          "base_uri": "https://localhost:8080/",
          "height": 278
        }
      },
      "source": [
        "ind = np.arange(len(devition))\n",
        "width = 0.2\n",
        "\n",
        "fig, ax = plt.subplots()\n",
        "ax.barh(ind,male, width, color='b', label='male')\n",
        "ax.barh(ind + width+.1, female, width, color='k', label='female')\n",
        "\n",
        "ax.set(yticks=ind + width, yticklabels=devition, ylim=[2*width - 1, len(devition)])\n",
        "ax.legend()\n",
        "\n",
        "plt.show()"
      ],
      "execution_count": 0,
      "outputs": [
        {
          "output_type": "display_data",
          "data": {
            "image/png": "[encoded data removed]",
            "text/plain": [
              "<Figure size 432x288 with 1 Axes>"
            ]
          },
          "metadata": {
            "tags": []
          }
        }
      ]
    }
  ]
}