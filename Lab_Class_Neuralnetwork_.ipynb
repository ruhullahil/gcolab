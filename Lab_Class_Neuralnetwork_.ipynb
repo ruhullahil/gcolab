{
  "nbformat": 4,
  "nbformat_minor": 0,
  "metadata": {
    "colab": {
      "name": "Lab Class Neuralnetwork .ipynb",
      "provenance": [],
      "collapsed_sections": [],
      "include_colab_link": true
    },
    "kernelspec": {
      "name": "python3",
      "display_name": "Python 3"
    }
  },
  "cells": [
    {
      "cell_type": "markdown",
      "metadata": {
        "id": "view-in-github",
        "colab_type": "text"
      },
      "source": [
        "<a href=\"https://colab.research.google.com/github/ruhullahil/gcolab/blob/master/Lab_Class_Neuralnetwork_.ipynb\" target=\"_parent\"><img src=\"https://colab.research.google.com/assets/colab-badge.svg\" alt=\"Open In Colab\"/></a>"
      ]
    },
    {
      "cell_type": "markdown",
      "metadata": {
        "id": "IHLOzidWXKTP",
        "colab_type": "text"
      },
      "source": [
        "![alt text](![alt text](https://))Basic Practrice of Class , method **etc**"
      ]
    },
    {
      "cell_type": "markdown",
      "metadata": {
        "id": "tqqGRxN6tHKg",
        "colab_type": "text"
      },
      "source": [
        "21 oct 2019 "
      ]
    },
    {
      "cell_type": "code",
      "metadata": {
        "id": "YVTI3szqLIZb",
        "colab_type": "code",
        "colab": {}
      },
      "source": [
        "class myclass:\n",
        "  def __init__(self,name= None,id=None): #constructor\n",
        "    if name!= None and id != None:\n",
        "      self.name = name\n",
        "      self.id = id\n",
        "      \n",
        "  def insert(self,name,id): #method\n",
        "    self.name=name\n",
        "    self.id=id\n",
        "  \n",
        "  def return_all(self):\n",
        "    return[self.name,self.id]\n",
        "  \n",
        "  def show(self):\n",
        "    print(\"Name : {0} ID: {1}\".format(self.name,self.id))\n",
        "      \n",
        "p1=myclass(\"Mahadi\",15163103036)\n",
        "p1.show()\n",
        "\n",
        "p1.insert(\"Mahadi Hassan\",36)\n",
        "\n",
        "p1.show()\n",
        "\n",
        "p2=myclass(\"Toru\",40)\n",
        "p2.show()\n",
        "\n",
        "data=p2.return_all()\n",
        "\n",
        "print(type(data))\n",
        "print(data[0])"
      ],
      "execution_count": 0,
      "outputs": []
    },
    {
      "cell_type": "code",
      "metadata": {
        "id": "fa1hicPDk0W2",
        "colab_type": "code",
        "colab": {}
      },
      "source": [
        "for x in \"banana\":\n",
        "  print(x)\n",
        "  "
      ],
      "execution_count": 0,
      "outputs": []
    },
    {
      "cell_type": "code",
      "metadata": {
        "id": "zx8EZ_t2XIi7",
        "colab_type": "code",
        "colab": {}
      },
      "source": [
        "for i in range (10,0,-1):\n",
        "  print(i)\n"
      ],
      "execution_count": 0,
      "outputs": []
    },
    {
      "cell_type": "code",
      "metadata": {
        "id": "d0A6mypDlQWz",
        "colab_type": "code",
        "colab": {}
      },
      "source": [
        "def listtt():\n",
        "  return [1,2,3,4,5,6,7,8,9,10]\n",
        "\n",
        "data=listtt()\n",
        "print(type(data))\n",
        "print(data)\n",
        "\n",
        "list=[1,2,3,4,5,6,7,8,9,10]\n",
        "\n",
        "for i in range (1,11,1):\n",
        "  if not i%2:\n",
        "    print(i)"
      ],
      "execution_count": 0,
      "outputs": []
    },
    {
      "cell_type": "markdown",
      "metadata": {
        "id": "8AqgsxQBs_7N",
        "colab_type": "text"
      },
      "source": [
        "28 oct 2019 Feed forward\n",
        "\n"
      ]
    },
    {
      "cell_type": "code",
      "metadata": {
        "id": "yV44ubEqs-fk",
        "colab_type": "code",
        "outputId": "2b798f3e-385d-4fb3-903c-4ff9541b608c",
        "colab": {
          "base_uri": "https://localhost:8080/",
          "height": 221
        }
      },
      "source": [
        "import numpy as np\n",
        "def sigmoid(x):\n",
        "  return np.exp(x)/(np.exp(x) +1)\n",
        "\n",
        "In = np.array([1,1,1])\n",
        "print(\"Input \",In)\n",
        "\n",
        "hidden1=np.random.rand(3,3)\n",
        "print(\"1st time Weight's \\n\", hidden1)\n",
        "\n",
        "hidden2=np.random.rand(3,2)\n",
        "print(\"2nd time Weight's \\n\", hidden2)\n",
        "\n",
        "out=np.random.rand(2,2)\n",
        "\n",
        "l1=np.dot(In,hidden1)\n",
        "s1=sigmoid(l1)\n",
        "\n",
        "l2=np.dot(s1,hidden2)\n",
        "s2=sigmoid(l2)\n",
        "\n",
        "l3=np.dot(s2,out)\n",
        "s3=sigmoid(l3)\n",
        "\n",
        "print(\"\\n\\nOutput \",s3)"
      ],
      "execution_count": 0,
      "outputs": [
        {
          "output_type": "stream",
          "text": [
            "Input  [1 1 1]\n",
            "1st time Weight's \n",
            " [[0.39102424 0.26843729 0.29750455]\n",
            " [0.5202185  0.93041629 0.26503541]\n",
            " [0.50875319 0.27908452 0.1596723 ]]\n",
            "2nd time Weight's \n",
            " [[0.11919952 0.3211331 ]\n",
            " [0.74046755 0.43911589]\n",
            " [0.80597396 0.95937381]]\n",
            "\n",
            "\n",
            "Output  [0.66432405 0.67878449]\n"
          ],
          "name": "stdout"
        }
      ]
    },
    {
      "cell_type": "markdown",
      "metadata": {
        "id": "lUG7SKKBXsaD",
        "colab_type": "text"
      },
      "source": [
        "4 nov 2019 back propagetion "
      ]
    },
    {
      "cell_type": "code",
      "metadata": {
        "id": "O7u1H9B7X1j8",
        "colab_type": "code",
        "colab": {}
      },
      "source": [
        "import numpy as np\n",
        "\n",
        "class Perceptron:\n",
        "    def __init__(self, number_of_inputs):\n",
        "        self.weights = np.random.rand(number_of_inputs, 1)\n",
        "        print(\"Initial Weights:\\n\", self.weights, end='\\n\\n')\n",
        "    \n",
        "    def sigmoid(x):\n",
        "        return 1.0 / (1.0 + np.exp(-x))\n",
        "    \n",
        "    def sigmoid_der(self, x):\n",
        "        return x * (1 - x)\n",
        "    \n",
        "    def feedForward(self, inputs):\n",
        "        return np.dot(inputs, self.weights)\n",
        "    \n",
        "    def backPropagation(self, output, target, learning_rate=0.1):\n",
        "        error = target - output\n",
        "        error = np.sum(np.square(error)/2)\n",
        "        print(\"Error\", error)\n",
        "        \n",
        "        # dEtotal/dOut\n",
        "        dEtotal_by_dOut = (target - output)\n",
        "        # dOut/dNet\n",
        "        dOut_by_dNet = self.sigmoid_der(output)\n",
        "        \n",
        "        dEtotal_by_w = np.array(dEtotal_by_dOut*dOut_by_dNet*self.weights)\n",
        "        self.weights -= learning_rate * dEtotal_by_w\n",
        "        \n",
        "        print(\"Updated Weights:\\n\", self.weights, end=\"\\n\\n\")\n",
        "        \n",
        "    def run(self, inputs, target, iters):\n",
        "        for i in range(iters):\n",
        "            self.backPropagation(self.feedForward(inputs), target)\n",
        "\n",
        "\n",
        "P = Perceptron(3)\n",
        "P.run([1, 2, 3], 0.5, 10)"
      ],
      "execution_count": 0,
      "outputs": []
    },
    {
      "cell_type": "code",
      "metadata": {
        "id": "2oS3TdHn_X5e",
        "colab_type": "code",
        "colab": {}
      },
      "source": [
        ""
      ],
      "execution_count": 0,
      "outputs": []
    }
  ]
}