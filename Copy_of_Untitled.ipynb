{
  "nbformat": 4,
  "nbformat_minor": 0,
  "metadata": {
    "colab": {
      "name": "Copy of Untitled",
      "provenance": [],
      "collapsed_sections": [],
      "include_colab_link": true
    },
    "kernelspec": {
      "name": "python3",
      "display_name": "Python 3"
    }
  },
  "cells": [
    {
      "cell_type": "markdown",
      "metadata": {
        "id": "view-in-github",
        "colab_type": "text"
      },
      "source": [
        "<a href=\"https://colab.research.google.com/github/ruhullahil/gcolab/blob/master/Copy_of_Untitled.ipynb\" target=\"_parent\"><img src=\"https://colab.research.google.com/assets/colab-badge.svg\" alt=\"Open In Colab\"/></a>"
      ]
    },
    {
      "cell_type": "code",
      "metadata": {
        "id": "CBqZMPolMFnH",
        "colab_type": "code",
        "colab": {}
      },
      "source": [
        "import numpy as np"
      ],
      "execution_count": 0,
      "outputs": []
    },
    {
      "cell_type": "code",
      "metadata": {
        "id": "bSmoGZ2d8nAQ",
        "colab_type": "code",
        "colab": {}
      },
      "source": [
        "m = 3\n",
        "n = 3\n",
        "p = 0\n",
        "q = 4\n",
        "r = 0"
      ],
      "execution_count": 0,
      "outputs": []
    },
    {
      "cell_type": "code",
      "metadata": {
        "id": "Nn4QJaHqMLhl",
        "colab_type": "code",
        "colab": {}
      },
      "source": [
        "X1 = [[m, r, m, p, r], \n",
        "      [n, p, p, n, n]]\n",
        "\n",
        "X2 = [[m, p, q, m, m], \n",
        "      [r, q, m, q, m]]"
      ],
      "execution_count": 0,
      "outputs": []
    },
    {
      "cell_type": "code",
      "metadata": {
        "id": "x6m11nQ7NS5W",
        "colab_type": "code",
        "colab": {}
      },
      "source": [
        "X1 = np.array(X1)\n",
        "X2 = np.array(X2)\n",
        "N = X1.shape[1]"
      ],
      "execution_count": 0,
      "outputs": []
    },
    {
      "cell_type": "code",
      "metadata": {
        "id": "-BVmDmwQNiMq",
        "colab_type": "code",
        "outputId": "b6d227bc-7ef3-4859-eb41-cad966ee50f1",
        "colab": {
          "base_uri": "https://localhost:8080/",
          "height": 150
        }
      },
      "source": [
        "print(X1)\n",
        "print()\n",
        "print(X2)\n",
        "print()\n",
        "print(f'Number of elements {N}')"
      ],
      "execution_count": 0,
      "outputs": [
        {
          "output_type": "stream",
          "text": [
            "[[3 0 3 0 0]\n",
            " [3 0 0 3 3]]\n",
            "\n",
            "[[3 0 4 3 3]\n",
            " [0 4 3 4 3]]\n",
            "\n",
            "Number of elements 5\n"
          ],
          "name": "stdout"
        }
      ]
    },
    {
      "cell_type": "code",
      "metadata": {
        "id": "Q1FhL7sQNYLB",
        "colab_type": "code",
        "colab": {}
      },
      "source": [
        "mu1 = (np.sum(X1, axis=1)/N)\n",
        "mu2 = (np.sum(X2, axis=1)/N)\n",
        "\n",
        "mu1 = mu1.reshape(2, 1)\n",
        "mu2 = mu2.reshape(2, 1)"
      ],
      "execution_count": 0,
      "outputs": []
    },
    {
      "cell_type": "code",
      "metadata": {
        "id": "CXkXNQYbNhhk",
        "colab_type": "code",
        "outputId": "5ba7be32-5c87-41d7-ad5c-5606ec30cc36",
        "colab": {
          "base_uri": "https://localhost:8080/",
          "height": 150
        }
      },
      "source": [
        "print('MU_1=\\n', mu1)\n",
        "print()\n",
        "print('MU_2=\\n', mu2)"
      ],
      "execution_count": 0,
      "outputs": [
        {
          "output_type": "stream",
          "text": [
            "MU_1=\n",
            " [[1.2]\n",
            " [1.8]]\n",
            "\n",
            "MU_2=\n",
            " [[2.6]\n",
            " [2.8]]\n"
          ],
          "name": "stdout"
        }
      ]
    },
    {
      "cell_type": "code",
      "metadata": {
        "id": "JqN8EGjYNnmn",
        "colab_type": "code",
        "colab": {}
      },
      "source": [
        "x1MinusMU = X1 - mu1\n",
        "x2MinusMU = X2 - mu2"
      ],
      "execution_count": 0,
      "outputs": []
    },
    {
      "cell_type": "code",
      "metadata": {
        "id": "oDfG4m52OFzj",
        "colab_type": "code",
        "outputId": "44c1fb71-a2d0-4304-d88d-743388a65a38",
        "colab": {
          "base_uri": "https://localhost:8080/",
          "height": 112
        }
      },
      "source": [
        "print(x1MinusMU)\n",
        "print()\n",
        "print(x2MinusMU)"
      ],
      "execution_count": 0,
      "outputs": [
        {
          "output_type": "stream",
          "text": [
            "[[ 1.8 -1.2  1.8 -1.2 -1.2]\n",
            " [ 1.2 -1.8 -1.8  1.2  1.2]]\n",
            "\n",
            "[[ 0.4 -2.6  1.4  0.4  0.4]\n",
            " [-2.8  1.2  0.2  1.2  0.2]]\n"
          ],
          "name": "stdout"
        }
      ]
    },
    {
      "cell_type": "code",
      "metadata": {
        "id": "iMaC9PAHOTcY",
        "colab_type": "code",
        "colab": {}
      },
      "source": [
        "S1 = np.matmul(x1MinusMU, x1MinusMU.T)/(N-1)\n",
        "S2 = np.matmul(x2MinusMU, x2MinusMU.T)/(N-1)"
      ],
      "execution_count": 0,
      "outputs": []
    },
    {
      "cell_type": "code",
      "metadata": {
        "id": "F38wegRDP8Oj",
        "colab_type": "code",
        "outputId": "8fcd9acb-1292-4bc7-d1c5-e6f8fc538112",
        "colab": {
          "base_uri": "https://localhost:8080/",
          "height": 150
        }
      },
      "source": [
        "print('S_1=\\n', S1)\n",
        "print()\n",
        "print('S_2=\\n', S2)"
      ],
      "execution_count": 0,
      "outputs": [
        {
          "output_type": "stream",
          "text": [
            "S_1=\n",
            " [[ 2.7  -0.45]\n",
            " [-0.45  2.7 ]]\n",
            "\n",
            "S_2=\n",
            " [[ 2.3  -0.85]\n",
            " [-0.85  2.7 ]]\n"
          ],
          "name": "stdout"
        }
      ]
    },
    {
      "cell_type": "code",
      "metadata": {
        "id": "gvYz88U6P-BV",
        "colab_type": "code",
        "outputId": "5a705300-1693-41d9-844a-0cc95a998b19",
        "colab": {
          "base_uri": "https://localhost:8080/",
          "height": 74
        }
      },
      "source": [
        "Sw = S1 + S2\n",
        "print('Sw=\\n', Sw)"
      ],
      "execution_count": 0,
      "outputs": [
        {
          "output_type": "stream",
          "text": [
            "Sw=\n",
            " [[ 5.  -1.3]\n",
            " [-1.3  5.4]]\n"
          ],
          "name": "stdout"
        }
      ]
    },
    {
      "cell_type": "code",
      "metadata": {
        "id": "gUp4lop7QH8P",
        "colab_type": "code",
        "outputId": "b1a79778-94a2-4939-a875-3026a3d0e539",
        "colab": {
          "base_uri": "https://localhost:8080/",
          "height": 55
        }
      },
      "source": [
        "invSw = np.linalg.inv(Sw)\n",
        "print(invSw)"
      ],
      "execution_count": 0,
      "outputs": [
        {
          "output_type": "stream",
          "text": [
            "[[0.21335441 0.0513631 ]\n",
            " [0.0513631  0.19755038]]\n"
          ],
          "name": "stdout"
        }
      ]
    },
    {
      "cell_type": "code",
      "metadata": {
        "id": "fG3RMM9UQmT0",
        "colab_type": "code",
        "colab": {}
      },
      "source": [
        "wStar = np.matmul(invSw, mu1 - mu2)"
      ],
      "execution_count": 0,
      "outputs": []
    },
    {
      "cell_type": "code",
      "metadata": {
        "id": "5yubBAk-RMxY",
        "colab_type": "code",
        "outputId": "5738fb94-3a86-447b-e241-a0d2cd14aa93",
        "colab": {
          "base_uri": "https://localhost:8080/",
          "height": 74
        }
      },
      "source": [
        "print('w*\\n', wStar)"
      ],
      "execution_count": 0,
      "outputs": [
        {
          "output_type": "stream",
          "text": [
            "w*\n",
            " [[-0.35005927]\n",
            " [-0.26945871]]\n"
          ],
          "name": "stdout"
        }
      ]
    },
    {
      "cell_type": "code",
      "metadata": {
        "id": "bEB3xvzmR3tC",
        "colab_type": "code",
        "colab": {}
      },
      "source": [
        ""
      ],
      "execution_count": 0,
      "outputs": []
    }
  ]
}