{
  "nbformat": 4,
  "nbformat_minor": 0,
  "metadata": {
    "colab": {
      "name": "banglahandwriten.ipynb",
      "provenance": [],
      "collapsed_sections": [],
      "authorship_tag": "ABX9TyMdE52W+zHpHqB2xEya1boJ",
      "include_colab_link": true
    },
    "kernelspec": {
      "name": "python3",
      "display_name": "Python 3"
    },
    "accelerator": "GPU",
    "widgets": {
      "application/vnd.jupyter.widget-state+json": {
        "2fd75f25c65e48a2855145bc41610ab4": {
          "model_module": "@jupyter-widgets/controls",
          "model_name": "HBoxModel",
          "state": {
            "_view_name": "HBoxView",
            "_dom_classes": [],
            "_model_name": "HBoxModel",
            "_view_module": "@jupyter-widgets/controls",
            "_model_module_version": "1.5.0",
            "_view_count": null,
            "_view_module_version": "1.5.0",
            "box_style": "",
            "layout": "IPY_MODEL_9a5cc4b00b87439a8d61bdd8ada16960",
            "_model_module": "@jupyter-widgets/controls",
            "children": [
              "IPY_MODEL_33503f2607f747d79d7484c4510d76c7",
              "IPY_MODEL_644f406a14af4fff9cdb03bd52a35aa1"
            ]
          }
        },
        "9a5cc4b00b87439a8d61bdd8ada16960": {
          "model_module": "@jupyter-widgets/base",
          "model_name": "LayoutModel",
          "state": {
            "_view_name": "LayoutView",
            "grid_template_rows": null,
            "right": null,
            "justify_content": null,
            "_view_module": "@jupyter-widgets/base",
            "overflow": null,
            "_model_module_version": "1.2.0",
            "_view_count": null,
            "flex_flow": null,
            "width": null,
            "min_width": null,
            "border": null,
            "align_items": null,
            "bottom": null,
            "_model_module": "@jupyter-widgets/base",
            "top": null,
            "grid_column": null,
            "overflow_y": null,
            "overflow_x": null,
            "grid_auto_flow": null,
            "grid_area": null,
            "grid_template_columns": null,
            "flex": null,
            "_model_name": "LayoutModel",
            "justify_items": null,
            "grid_row": null,
            "max_height": null,
            "align_content": null,
            "visibility": null,
            "align_self": null,
            "height": null,
            "min_height": null,
            "padding": null,
            "grid_auto_rows": null,
            "grid_gap": null,
            "max_width": null,
            "order": null,
            "_view_module_version": "1.2.0",
            "grid_template_areas": null,
            "object_position": null,
            "object_fit": null,
            "grid_auto_columns": null,
            "margin": null,
            "display": null,
            "left": null
          }
        },
        "33503f2607f747d79d7484c4510d76c7": {
          "model_module": "@jupyter-widgets/controls",
          "model_name": "IntProgressModel",
          "state": {
            "_view_name": "ProgressView",
            "style": "IPY_MODEL_c363394a526d481ea344e5c1a302d57a",
            "_dom_classes": [],
            "description": "",
            "_model_name": "IntProgressModel",
            "bar_style": "success",
            "max": 311,
            "_view_module": "@jupyter-widgets/controls",
            "_model_module_version": "1.5.0",
            "value": 311,
            "_view_count": null,
            "_view_module_version": "1.5.0",
            "orientation": "horizontal",
            "min": 0,
            "description_tooltip": null,
            "_model_module": "@jupyter-widgets/controls",
            "layout": "IPY_MODEL_b6236ece435f4376ad12119c942c25bc"
          }
        },
        "644f406a14af4fff9cdb03bd52a35aa1": {
          "model_module": "@jupyter-widgets/controls",
          "model_name": "HTMLModel",
          "state": {
            "_view_name": "HTMLView",
            "style": "IPY_MODEL_e28cce0181b44723978f980456e12fd2",
            "_dom_classes": [],
            "description": "",
            "_model_name": "HTMLModel",
            "placeholder": "​",
            "_view_module": "@jupyter-widgets/controls",
            "_model_module_version": "1.5.0",
            "value": "100% 311/311 [00:00&lt;00:00, 2632.58it/s]",
            "_view_count": null,
            "_view_module_version": "1.5.0",
            "description_tooltip": null,
            "_model_module": "@jupyter-widgets/controls",
            "layout": "IPY_MODEL_b216502ecff04345ad4631c85f77f68b"
          }
        },
        "c363394a526d481ea344e5c1a302d57a": {
          "model_module": "@jupyter-widgets/controls",
          "model_name": "ProgressStyleModel",
          "state": {
            "_view_name": "StyleView",
            "_model_name": "ProgressStyleModel",
            "description_width": "",
            "_view_module": "@jupyter-widgets/base",
            "_model_module_version": "1.5.0",
            "_view_count": null,
            "_view_module_version": "1.2.0",
            "bar_color": null,
            "_model_module": "@jupyter-widgets/controls"
          }
        },
        "b6236ece435f4376ad12119c942c25bc": {
          "model_module": "@jupyter-widgets/base",
          "model_name": "LayoutModel",
          "state": {
            "_view_name": "LayoutView",
            "grid_template_rows": null,
            "right": null,
            "justify_content": null,
            "_view_module": "@jupyter-widgets/base",
            "overflow": null,
            "_model_module_version": "1.2.0",
            "_view_count": null,
            "flex_flow": null,
            "width": null,
            "min_width": null,
            "border": null,
            "align_items": null,
            "bottom": null,
            "_model_module": "@jupyter-widgets/base",
            "top": null,
            "grid_column": null,
            "overflow_y": null,
            "overflow_x": null,
            "grid_auto_flow": null,
            "grid_area": null,
            "grid_template_columns": null,
            "flex": null,
            "_model_name": "LayoutModel",
            "justify_items": null,
            "grid_row": null,
            "max_height": null,
            "align_content": null,
            "visibility": null,
            "align_self": null,
            "height": null,
            "min_height": null,
            "padding": null,
            "grid_auto_rows": null,
            "grid_gap": null,
            "max_width": null,
            "order": null,
            "_view_module_version": "1.2.0",
            "grid_template_areas": null,
            "object_position": null,
            "object_fit": null,
            "grid_auto_columns": null,
            "margin": null,
            "display": null,
            "left": null
          }
        },
        "e28cce0181b44723978f980456e12fd2": {
          "model_module": "@jupyter-widgets/controls",
          "model_name": "DescriptionStyleModel",
          "state": {
            "_view_name": "StyleView",
            "_model_name": "DescriptionStyleModel",
            "description_width": "",
            "_view_module": "@jupyter-widgets/base",
            "_model_module_version": "1.5.0",
            "_view_count": null,
            "_view_module_version": "1.2.0",
            "_model_module": "@jupyter-widgets/controls"
          }
        },
        "b216502ecff04345ad4631c85f77f68b": {
          "model_module": "@jupyter-widgets/base",
          "model_name": "LayoutModel",
          "state": {
            "_view_name": "LayoutView",
            "grid_template_rows": null,
            "right": null,
            "justify_content": null,
            "_view_module": "@jupyter-widgets/base",
            "overflow": null,
            "_model_module_version": "1.2.0",
            "_view_count": null,
            "flex_flow": null,
            "width": null,
            "min_width": null,
            "border": null,
            "align_items": null,
            "bottom": null,
            "_model_module": "@jupyter-widgets/base",
            "top": null,
            "grid_column": null,
            "overflow_y": null,
            "overflow_x": null,
            "grid_auto_flow": null,
            "grid_area": null,
            "grid_template_columns": null,
            "flex": null,
            "_model_name": "LayoutModel",
            "justify_items": null,
            "grid_row": null,
            "max_height": null,
            "align_content": null,
            "visibility": null,
            "align_self": null,
            "height": null,
            "min_height": null,
            "padding": null,
            "grid_auto_rows": null,
            "grid_gap": null,
            "max_width": null,
            "order": null,
            "_view_module_version": "1.2.0",
            "grid_template_areas": null,
            "object_position": null,
            "object_fit": null,
            "grid_auto_columns": null,
            "margin": null,
            "display": null,
            "left": null
          }
        }
      }
    }
  },
  "cells": [
    {
      "cell_type": "markdown",
      "metadata": {
        "id": "view-in-github",
        "colab_type": "text"
      },
      "source": [
        "<a href=\"https://colab.research.google.com/github/ruhullahil/gcolab/blob/master/banglahandwriten.ipynb\" target=\"_parent\"><img src=\"https://colab.research.google.com/assets/colab-badge.svg\" alt=\"Open In Colab\"/></a>"
      ]
    },
    {
      "cell_type": "code",
      "metadata": {
        "id": "ZHT5-3nOyJGg",
        "colab_type": "code",
        "outputId": "6e952221-bdd9-4432-ded0-c513f6e990ce",
        "colab": {
          "base_uri": "https://localhost:8080/",
          "height": 51
        }
      },
      "source": [
        "%tensorflow_version 2.x\n",
        "import tensorflow as tf\n",
        "from tensorflow.keras import backend as K\n",
        "\n",
        "import numpy as np\n",
        "from pathlib import Path\n",
        "import os\n",
        "from PIL import Image\n",
        "import matplotlib.pyplot as plt\n",
        "from tqdm import tqdm_notebook \n",
        "from sklearn.model_selection import train_test_split\n",
        "\n",
        "from keras.utils import np_utils\n",
        "\n",
        "# Disable Warnings\n",
        "import os\n",
        "os.environ['TF_CPP_MIN_LOG_LEVEL'] = '2'\n",
        "\n",
        "# Importing sequential model\n",
        "from tensorflow.keras.models import Sequential\n",
        "\n",
        "# Importing convolutional layers\n",
        "from tensorflow.keras.layers import Conv2D\n",
        "from tensorflow.keras.layers import MaxPooling2D\n",
        "\n",
        "from tensorflow.keras.layers import BatchNormalization\n",
        "\n",
        "from tensorflow.python.keras.layers import Input, Dense, Activation, Flatten, Dropout\n",
        "\n",
        "# Importing MNIST dataset\n",
        "from tensorflow.keras.datasets import mnist\n",
        "\n",
        "# Importing optimizers\n",
        "from tensorflow.keras.optimizers import SGD, RMSprop, Adam\n",
        "\n",
        "# One Hot Encoding (OHE)\n",
        "from tensorflow.keras.utils import to_categorical\n",
        "\n",
        "# Importing numpy and matplotlib\n",
        "import numpy as np\n",
        "import matplotlib.pyplot as plt"
      ],
      "execution_count": 0,
      "outputs": [
        {
          "output_type": "stream",
          "text": [
            "TensorFlow 2.x selected.\n"
          ],
          "name": "stdout"
        },
        {
          "output_type": "stream",
          "text": [
            "Using TensorFlow backend.\n"
          ],
          "name": "stderr"
        }
      ]
    },
    {
      "cell_type": "code",
      "metadata": {
        "id": "s0idVGSSzeUp",
        "colab_type": "code",
        "outputId": "c711900b-86ad-4354-fea8-ff16407dbde0",
        "colab": {
          "base_uri": "https://localhost:8080/",
          "height": 1000
        }
      },
      "source": [
        "!unzip '/content/reshaped.zip'"
      ],
      "execution_count": 0,
      "outputs": [
        {
          "output_type": "stream",
          "text": [
            "Archive:  /content/reshaped.zip\n",
            "   creating: reshaped/\n",
            "  inflating: reshaped/0_0.jpg        \n",
            "  inflating: reshaped/0_1.jpg        \n",
            "  inflating: reshaped/0_10.jpg       \n",
            "  inflating: reshaped/0_100.jpg      \n",
            "  inflating: reshaped/0_101.jpg      \n",
            "  inflating: reshaped/0_102.jpg      \n",
            "  inflating: reshaped/0_11.jpg       \n",
            "  inflating: reshaped/0_12.jpg       \n",
            "  inflating: reshaped/0_13.jpg       \n",
            "  inflating: reshaped/0_14.jpg       \n",
            "  inflating: reshaped/0_15.jpg       \n",
            "  inflating: reshaped/0_16.jpg       \n",
            "  inflating: reshaped/0_17.jpg       \n",
            "  inflating: reshaped/0_18.jpg       \n",
            "  inflating: reshaped/0_19.jpg       \n",
            "  inflating: reshaped/0_2.jpg        \n",
            "  inflating: reshaped/0_20.jpg       \n",
            "  inflating: reshaped/0_21.jpg       \n",
            "  inflating: reshaped/0_22.jpg       \n",
            "  inflating: reshaped/0_23.jpg       \n",
            "  inflating: reshaped/0_24.jpg       \n",
            "  inflating: reshaped/0_25.jpg       \n",
            "  inflating: reshaped/0_26.jpg       \n",
            "  inflating: reshaped/0_27.jpg       \n",
            "  inflating: reshaped/0_28.jpg       \n",
            "  inflating: reshaped/0_29.jpg       \n",
            "  inflating: reshaped/0_3.jpg        \n",
            "  inflating: reshaped/0_30.jpg       \n",
            "  inflating: reshaped/0_31.jpg       \n",
            "  inflating: reshaped/0_32.jpg       \n",
            "  inflating: reshaped/0_33.jpg       \n",
            "  inflating: reshaped/0_34.jpg       \n",
            "  inflating: reshaped/0_35.jpg       \n",
            "  inflating: reshaped/0_36.jpg       \n",
            "  inflating: reshaped/0_37.jpg       \n",
            "  inflating: reshaped/0_38.jpg       \n",
            "  inflating: reshaped/0_39.jpg       \n",
            "  inflating: reshaped/0_4.jpg        \n",
            "  inflating: reshaped/0_40.jpg       \n",
            "  inflating: reshaped/0_41.jpg       \n",
            "  inflating: reshaped/0_42.jpg       \n",
            "  inflating: reshaped/0_43.jpg       \n",
            "  inflating: reshaped/0_44.jpg       \n",
            "  inflating: reshaped/0_45.jpg       \n",
            "  inflating: reshaped/0_46.jpg       \n",
            "  inflating: reshaped/0_47.jpg       \n",
            "  inflating: reshaped/0_48.jpg       \n",
            "  inflating: reshaped/0_49.jpg       \n",
            "  inflating: reshaped/0_5.jpg        \n",
            "  inflating: reshaped/0_50.jpg       \n",
            "  inflating: reshaped/0_51.jpg       \n",
            "  inflating: reshaped/0_52.jpg       \n",
            "  inflating: reshaped/0_53.jpg       \n",
            "  inflating: reshaped/0_54.jpg       \n",
            "  inflating: reshaped/0_55.jpg       \n",
            "  inflating: reshaped/0_56.jpg       \n",
            "  inflating: reshaped/0_57.jpg       \n",
            "  inflating: reshaped/0_58.jpg       \n",
            "  inflating: reshaped/0_59.jpg       \n",
            "  inflating: reshaped/0_6.jpg        \n",
            "  inflating: reshaped/0_60.jpg       \n",
            "  inflating: reshaped/0_61.jpg       \n",
            "  inflating: reshaped/0_62.jpg       \n",
            "  inflating: reshaped/0_63.jpg       \n",
            "  inflating: reshaped/0_64.jpg       \n",
            "  inflating: reshaped/0_65.jpg       \n",
            "  inflating: reshaped/0_66.jpg       \n",
            "  inflating: reshaped/0_67.jpg       \n",
            "  inflating: reshaped/0_68.jpg       \n",
            "  inflating: reshaped/0_69.jpg       \n",
            "  inflating: reshaped/0_7.jpg        \n",
            "  inflating: reshaped/0_70.jpg       \n",
            "  inflating: reshaped/0_71.jpg       \n",
            "  inflating: reshaped/0_72.jpg       \n",
            "  inflating: reshaped/0_73.jpg       \n",
            "  inflating: reshaped/0_74.jpg       \n",
            "  inflating: reshaped/0_75.jpg       \n",
            "  inflating: reshaped/0_76.jpg       \n",
            "  inflating: reshaped/0_77.jpg       \n",
            "  inflating: reshaped/0_78.jpg       \n",
            "  inflating: reshaped/0_79.jpg       \n",
            "  inflating: reshaped/0_8.jpg        \n",
            "  inflating: reshaped/0_80.jpg       \n",
            "  inflating: reshaped/0_81.jpg       \n",
            "  inflating: reshaped/0_82.jpg       \n",
            "  inflating: reshaped/0_83.jpg       \n",
            "  inflating: reshaped/0_84.jpg       \n",
            "  inflating: reshaped/0_85.jpg       \n",
            "  inflating: reshaped/0_86.jpg       \n",
            "  inflating: reshaped/0_87.jpg       \n",
            "  inflating: reshaped/0_88.jpg       \n",
            "  inflating: reshaped/0_89.jpg       \n",
            "  inflating: reshaped/0_9.jpg        \n",
            "  inflating: reshaped/0_90.jpg       \n",
            "  inflating: reshaped/0_91.jpg       \n",
            "  inflating: reshaped/0_92.jpg       \n",
            "  inflating: reshaped/0_93.jpg       \n",
            "  inflating: reshaped/0_94.jpg       \n",
            "  inflating: reshaped/0_95.jpg       \n",
            "  inflating: reshaped/0_96.jpg       \n",
            "  inflating: reshaped/0_97.jpg       \n",
            "  inflating: reshaped/0_98.jpg       \n",
            "  inflating: reshaped/0_99.jpg       \n",
            "  inflating: reshaped/1_0.jpg        \n",
            "  inflating: reshaped/1_1.jpg        \n",
            "  inflating: reshaped/1_10.jpg       \n",
            "  inflating: reshaped/1_11.jpg       \n",
            "  inflating: reshaped/1_12.jpg       \n",
            "  inflating: reshaped/1_13.jpg       \n",
            "  inflating: reshaped/1_14.jpg       \n",
            "  inflating: reshaped/1_15.jpg       \n",
            "  inflating: reshaped/1_16.jpg       \n",
            "  inflating: reshaped/1_17.jpg       \n",
            "  inflating: reshaped/1_18.jpg       \n",
            "  inflating: reshaped/1_19.jpg       \n",
            "  inflating: reshaped/1_2.jpg        \n",
            "  inflating: reshaped/1_20.jpg       \n",
            "  inflating: reshaped/1_21.jpg       \n",
            "  inflating: reshaped/1_22.jpg       \n",
            "  inflating: reshaped/1_23.jpg       \n",
            "  inflating: reshaped/1_24.jpg       \n",
            "  inflating: reshaped/1_25.jpg       \n",
            "  inflating: reshaped/1_26.jpg       \n",
            "  inflating: reshaped/1_27.jpg       \n",
            "  inflating: reshaped/1_28.jpg       \n",
            "  inflating: reshaped/1_29.jpg       \n",
            "  inflating: reshaped/1_3.jpg        \n",
            "  inflating: reshaped/1_30.jpg       \n",
            "  inflating: reshaped/1_31.jpg       \n",
            "  inflating: reshaped/1_32.jpg       \n",
            "  inflating: reshaped/1_33.jpg       \n",
            "  inflating: reshaped/1_34.jpg       \n",
            "  inflating: reshaped/1_35.jpg       \n",
            "  inflating: reshaped/1_36.jpg       \n",
            "  inflating: reshaped/1_37.jpg       \n",
            "  inflating: reshaped/1_38.jpg       \n",
            "  inflating: reshaped/1_39.jpg       \n",
            "  inflating: reshaped/1_4.jpg        \n",
            "  inflating: reshaped/1_40.jpg       \n",
            "  inflating: reshaped/1_41.jpg       \n",
            "  inflating: reshaped/1_42.jpg       \n",
            "  inflating: reshaped/1_43.jpg       \n",
            "  inflating: reshaped/1_44.jpg       \n",
            "  inflating: reshaped/1_45.jpg       \n",
            "  inflating: reshaped/1_46.jpg       \n",
            "  inflating: reshaped/1_47.jpg       \n",
            "  inflating: reshaped/1_48.jpg       \n",
            "  inflating: reshaped/1_5.jpg        \n",
            "  inflating: reshaped/1_6.jpg        \n",
            "  inflating: reshaped/1_7.jpg        \n",
            "  inflating: reshaped/1_8.jpg        \n",
            "  inflating: reshaped/1_9.jpg        \n",
            "  inflating: reshaped/2_0.jpg        \n",
            "  inflating: reshaped/2_1.jpg        \n",
            "  inflating: reshaped/2_10.jpg       \n",
            "  inflating: reshaped/2_11.jpg       \n",
            "  inflating: reshaped/2_12.jpg       \n",
            "  inflating: reshaped/2_13.jpg       \n",
            "  inflating: reshaped/2_14.jpg       \n",
            "  inflating: reshaped/2_15.jpg       \n",
            "  inflating: reshaped/2_16.jpg       \n",
            "  inflating: reshaped/2_17.jpg       \n",
            "  inflating: reshaped/2_18.jpg       \n",
            "  inflating: reshaped/2_19.jpg       \n",
            "  inflating: reshaped/2_2.jpg        \n",
            "  inflating: reshaped/2_20.jpg       \n",
            "  inflating: reshaped/2_21.jpg       \n",
            "  inflating: reshaped/2_22.jpg       \n",
            "  inflating: reshaped/2_23.jpg       \n",
            "  inflating: reshaped/2_24.jpg       \n",
            "  inflating: reshaped/2_25.jpg       \n",
            "  inflating: reshaped/2_26.jpg       \n",
            "  inflating: reshaped/2_27.jpg       \n",
            "  inflating: reshaped/2_28.jpg       \n",
            "  inflating: reshaped/2_29.jpg       \n",
            "  inflating: reshaped/2_3.jpg        \n",
            "  inflating: reshaped/2_30.jpg       \n",
            "  inflating: reshaped/2_31.jpg       \n",
            "  inflating: reshaped/2_32.jpg       \n",
            "  inflating: reshaped/2_33.jpg       \n",
            "  inflating: reshaped/2_34.jpg       \n",
            "  inflating: reshaped/2_35.jpg       \n",
            "  inflating: reshaped/2_36.jpg       \n",
            "  inflating: reshaped/2_37.jpg       \n",
            "  inflating: reshaped/2_38.jpg       \n",
            "  inflating: reshaped/2_39.jpg       \n",
            "  inflating: reshaped/2_4.jpg        \n",
            "  inflating: reshaped/2_40.jpg       \n",
            "  inflating: reshaped/2_41.jpg       \n",
            "  inflating: reshaped/2_42.jpg       \n",
            "  inflating: reshaped/2_43.jpg       \n",
            "  inflating: reshaped/2_44.jpg       \n",
            "  inflating: reshaped/2_45.jpg       \n",
            "  inflating: reshaped/2_46.jpg       \n",
            "  inflating: reshaped/2_47.jpg       \n",
            "  inflating: reshaped/2_48.jpg       \n",
            "  inflating: reshaped/2_49.jpg       \n",
            "  inflating: reshaped/2_5.jpg        \n",
            "  inflating: reshaped/2_50.jpg       \n",
            "  inflating: reshaped/2_51.jpg       \n",
            "  inflating: reshaped/2_52.jpg       \n",
            "  inflating: reshaped/2_53.jpg       \n",
            "  inflating: reshaped/2_54.jpg       \n",
            "  inflating: reshaped/2_55.jpg       \n",
            "  inflating: reshaped/2_56.jpg       \n",
            "  inflating: reshaped/2_57.jpg       \n",
            "  inflating: reshaped/2_58.jpg       \n",
            "  inflating: reshaped/2_59.jpg       \n",
            "  inflating: reshaped/2_6.jpg        \n",
            "  inflating: reshaped/2_60.jpg       \n",
            "  inflating: reshaped/2_61.jpg       \n",
            "  inflating: reshaped/2_62.jpg       \n",
            "  inflating: reshaped/2_63.jpg       \n",
            "  inflating: reshaped/2_64.jpg       \n",
            "  inflating: reshaped/2_65.jpg       \n",
            "  inflating: reshaped/2_66.jpg       \n",
            "  inflating: reshaped/2_67.jpg       \n",
            "  inflating: reshaped/2_68.jpg       \n",
            "  inflating: reshaped/2_69.jpg       \n",
            "  inflating: reshaped/2_7.jpg        \n",
            "  inflating: reshaped/2_70.jpg       \n",
            "  inflating: reshaped/2_71.jpg       \n",
            "  inflating: reshaped/2_8.jpg        \n",
            "  inflating: reshaped/2_9.jpg        \n",
            "  inflating: reshaped/3_0.jpg        \n",
            "  inflating: reshaped/3_1.jpg        \n",
            "  inflating: reshaped/3_10.jpg       \n",
            "  inflating: reshaped/3_11.jpg       \n",
            "  inflating: reshaped/3_12.jpg       \n",
            "  inflating: reshaped/3_13.jpg       \n",
            "  inflating: reshaped/3_14.jpg       \n",
            "  inflating: reshaped/3_15.jpg       \n",
            "  inflating: reshaped/3_16.jpg       \n",
            "  inflating: reshaped/3_17.jpg       \n",
            "  inflating: reshaped/3_18.jpg       \n",
            "  inflating: reshaped/3_19.jpg       \n",
            "  inflating: reshaped/3_2.jpg        \n",
            "  inflating: reshaped/3_20.jpg       \n",
            "  inflating: reshaped/3_21.jpg       \n",
            "  inflating: reshaped/3_22.jpg       \n",
            "  inflating: reshaped/3_23.jpg       \n",
            "  inflating: reshaped/3_24.jpg       \n",
            "  inflating: reshaped/3_25.jpg       \n",
            "  inflating: reshaped/3_26.jpg       \n",
            "  inflating: reshaped/3_27.jpg       \n",
            "  inflating: reshaped/3_28.jpg       \n",
            "  inflating: reshaped/3_29.jpg       \n",
            "  inflating: reshaped/3_3.jpg        \n",
            "  inflating: reshaped/3_30.jpg       \n",
            "  inflating: reshaped/3_31.jpg       \n",
            "  inflating: reshaped/3_32.jpg       \n",
            "  inflating: reshaped/3_33.jpg       \n",
            "  inflating: reshaped/3_34.jpg       \n",
            "  inflating: reshaped/3_35.jpg       \n",
            "  inflating: reshaped/3_36.jpg       \n",
            "  inflating: reshaped/3_37.jpg       \n",
            "  inflating: reshaped/3_4.jpg        \n",
            "  inflating: reshaped/3_5.jpg        \n",
            "  inflating: reshaped/3_6.jpg        \n",
            "  inflating: reshaped/3_7.jpg        \n",
            "  inflating: reshaped/3_8.jpg        \n",
            "  inflating: reshaped/3_9.jpg        \n",
            "  inflating: reshaped/4_0.jpg        \n",
            "  inflating: reshaped/4_1.jpg        \n",
            "  inflating: reshaped/4_10.jpg       \n",
            "  inflating: reshaped/4_11.jpg       \n",
            "  inflating: reshaped/4_12.jpg       \n",
            "  inflating: reshaped/4_13.jpg       \n",
            "  inflating: reshaped/4_14.jpg       \n",
            "  inflating: reshaped/4_15.jpg       \n",
            "  inflating: reshaped/4_16.jpg       \n",
            "  inflating: reshaped/4_17.jpg       \n",
            "  inflating: reshaped/4_18.jpg       \n",
            "  inflating: reshaped/4_19.jpg       \n",
            "  inflating: reshaped/4_2.jpg        \n",
            "  inflating: reshaped/4_20.jpg       \n",
            "  inflating: reshaped/4_21.jpg       \n",
            "  inflating: reshaped/4_22.jpg       \n",
            "  inflating: reshaped/4_23.jpg       \n",
            "  inflating: reshaped/4_24.jpg       \n",
            "  inflating: reshaped/4_25.jpg       \n",
            "  inflating: reshaped/4_26.jpg       \n",
            "  inflating: reshaped/4_27.jpg       \n",
            "  inflating: reshaped/4_28.jpg       \n",
            "  inflating: reshaped/4_29.jpg       \n",
            "  inflating: reshaped/4_3.jpg        \n",
            "  inflating: reshaped/4_30.jpg       \n",
            "  inflating: reshaped/4_31.jpg       \n",
            "  inflating: reshaped/4_32.jpg       \n",
            "  inflating: reshaped/4_33.jpg       \n",
            "  inflating: reshaped/4_34.jpg       \n",
            "  inflating: reshaped/4_35.jpg       \n",
            "  inflating: reshaped/4_36.jpg       \n",
            "  inflating: reshaped/4_37.jpg       \n",
            "  inflating: reshaped/4_38.jpg       \n",
            "  inflating: reshaped/4_39.jpg       \n",
            "  inflating: reshaped/4_4.jpg        \n",
            "  inflating: reshaped/4_40.jpg       \n",
            "  inflating: reshaped/4_41.jpg       \n",
            "  inflating: reshaped/4_42.jpg       \n",
            "  inflating: reshaped/4_43.jpg       \n",
            "  inflating: reshaped/4_44.jpg       \n",
            "  inflating: reshaped/4_45.jpg       \n",
            "  inflating: reshaped/4_46.jpg       \n",
            "  inflating: reshaped/4_47.jpg       \n",
            "  inflating: reshaped/4_48.jpg       \n",
            "  inflating: reshaped/4_5.jpg        \n",
            "  inflating: reshaped/4_6.jpg        \n",
            "  inflating: reshaped/4_7.jpg        \n",
            "  inflating: reshaped/4_8.jpg        \n",
            "  inflating: reshaped/4_9.jpg        \n"
          ],
          "name": "stdout"
        }
      ]
    },
    {
      "cell_type": "code",
      "metadata": {
        "id": "I33hQBEMz1rS",
        "colab_type": "code",
        "colab": {}
      },
      "source": [
        "'''\n",
        "0 : ka\n",
        "1 : kha\n",
        "2 : ta\n",
        "3 : tha\n",
        "4 : da\n",
        "\n",
        "0_number.jpg\n",
        "\n",
        "'''\n",
        "\n",
        "def getClass(fileDir):\n",
        "    fileDir = str(fileDir)\n",
        "    name = (fileDir.split('_')[0]).split('/')[-1]\n",
        "    return int(name)\n",
        "\n",
        "# Image dimention: (total_image, width, height)\n",
        "def plotFigs(images, rows=1, columns=1, title=None):\n",
        "    fig=plt.figure(figsize=(10, 4))\n",
        "    if title:\n",
        "        fig.suptitle(title)\n",
        "    \n",
        "    for i, img in enumerate(images):\n",
        "        fig.add_subplot(rows, columns, i+1)\n",
        "        plt.imshow(img, cmap='gray')\n",
        "\n",
        "    plt.show()"
      ],
      "execution_count": 0,
      "outputs": []
    },
    {
      "cell_type": "code",
      "metadata": {
        "id": "C5e9UQ_v176E",
        "colab_type": "code",
        "outputId": "cc61f085-7c2f-4b4a-c167-da8778f4fbd1",
        "colab": {
          "base_uri": "https://localhost:8080/",
          "height": 34
        }
      },
      "source": [
        "fileDirectories = [filedir for filedir in Path('/content/reshaped').glob('*.jpg')]\n",
        "print(len(fileDirectories), 'files found')"
      ],
      "execution_count": 0,
      "outputs": [
        {
          "output_type": "stream",
          "text": [
            "311 files found\n"
          ],
          "name": "stdout"
        }
      ]
    },
    {
      "cell_type": "code",
      "metadata": {
        "id": "PaDCbSHl0HNF",
        "colab_type": "code",
        "outputId": "442e0f56-1740-459d-ec36-2a5e9c663ceb",
        "colab": {
          "base_uri": "https://localhost:8080/",
          "height": 66,
          "referenced_widgets": [
            "2fd75f25c65e48a2855145bc41610ab4",
            "9a5cc4b00b87439a8d61bdd8ada16960",
            "33503f2607f747d79d7484c4510d76c7",
            "644f406a14af4fff9cdb03bd52a35aa1",
            "c363394a526d481ea344e5c1a302d57a",
            "b6236ece435f4376ad12119c942c25bc",
            "e28cce0181b44723978f980456e12fd2",
            "b216502ecff04345ad4631c85f77f68b"
          ]
        }
      },
      "source": [
        "imgs = []\n",
        "imgClass = []\n",
        "\n",
        "for imgDir in tqdm_notebook(fileDirectories):\n",
        "    img = np.array(Image.open(imgDir))\n",
        "    imgs.append(img)\n",
        "    imgClass.append(getClass(imgDir))"
      ],
      "execution_count": 0,
      "outputs": [
        {
          "output_type": "display_data",
          "data": {
            "application/vnd.jupyter.widget-view+json": {
              "model_id": "2fd75f25c65e48a2855145bc41610ab4",
              "version_minor": 0,
              "version_major": 2
            },
            "text/plain": [
              "HBox(children=(IntProgress(value=0, max=311), HTML(value='')))"
            ]
          },
          "metadata": {
            "tags": []
          }
        },
        {
          "output_type": "stream",
          "text": [
            "\n"
          ],
          "name": "stdout"
        }
      ]
    },
    {
      "cell_type": "code",
      "metadata": {
        "id": "-oNbJV-d0uLW",
        "colab_type": "code",
        "outputId": "6551bbb1-aab3-4582-e3db-41f7f4c6b085",
        "colab": {
          "base_uri": "https://localhost:8080/",
          "height": 268
        }
      },
      "source": [
        "imgs = np.array(imgs)\n",
        "imgClass = np.array(imgClass)\n",
        "plotFigs(imgs[:20], 2, 10, \"name {}\".format(imgClass[:20]))"
      ],
      "execution_count": 0,
      "outputs": [
        {
          "output_type": "display_data",
          "data": {
            "image/png": "[encoded data removed]",
            "text/plain": [
              "<Figure size 720x288 with 20 Axes>"
            ]
          },
          "metadata": {
            "tags": []
          }
        }
      ]
    },
    {
      "cell_type": "code",
      "metadata": {
        "id": "LzkiaTJv0_9A",
        "colab_type": "code",
        "colab": {}
      },
      "source": [
        "#Define ConvNet\n",
        "class LeNet:\n",
        "    @staticmethod\n",
        "    def build(input_shape, classes):\n",
        "        model = Sequential()\n",
        "        \n",
        "        # Conv -> ReLU -> Pooling\n",
        "        model.add(Conv2D(32, kernel_size=5, padding='same', input_shape=input_shape))\n",
        "        model.add(Activation('relu'))\n",
        "        model.add(BatchNormalization())\n",
        "        model.add(MaxPooling2D(pool_size=(2, 2)))\n",
        "        model.add(Dropout(0.3))\n",
        "        '''\n",
        "        # Conv -> ReLU -> Pooling\n",
        "        model.add(Conv2D(16, kernel_size=5, input_shape='same'))\n",
        "        model.add(Activation('relu'))\n",
        "        model.add(BatchNormalization())\n",
        "        model.add(MaxPooling2D(pool_size=(2, 2)))\n",
        "        model.add(Dropout(0.2))\n",
        "      \n",
        "        model.add(Conv2D(16, kernel_size=5, input_shape='same'))\n",
        "        model.add(Activation('relu'))\n",
        "        model.add(BatchNormalization())\n",
        "        model.add(MaxPooling2D(pool_size=(2, 2)))\n",
        "        model.add(Dropout(0.2))\n",
        "         '''                 \n",
        "        # Flattern -> ReLU\n",
        "        model.add(Flatten())\n",
        "        model.add(Activation('relu'))\n",
        "        model.add(BatchNormalization())\n",
        "        model.add(Dropout(0.2))\n",
        "        \n",
        "        model.add(Dense(40))\n",
        "        model.add(Activation('relu'))\n",
        "        model.add(BatchNormalization())\n",
        "        model.add(Dropout(0.2))\n",
        "        \n",
        "        # SoftMax\n",
        "        model.add(Dense(classes))\n",
        "        model.add(Activation('softmax'))\n",
        "        \n",
        "        model.summary()\n",
        "        return model"
      ],
      "execution_count": 0,
      "outputs": []
    },
    {
      "cell_type": "code",
      "metadata": {
        "id": "xZrCY_dg1H-T",
        "colab_type": "code",
        "outputId": "c396f55e-14c8-4030-d2f5-af924f61160b",
        "colab": {
          "base_uri": "https://localhost:8080/",
          "height": 85
        }
      },
      "source": [
        "#model = LeNet.build()\n",
        "X_train, X_test, y_train, y_test = train_test_split(imgs, imgClass, test_size=0.33, random_state=42)\n",
        "\n",
        "print(len(np.unique(imgClass)), len(np.unique(y_test)), len(np.unique(y_train)))\n",
        "\n",
        "print(y_train.shape)\n",
        "\n",
        "#y_train = np.reshape(y_train, (len(y_train), -1))\n",
        "#y_test = np.reshape(y_test, (len(y_test), -1))\n",
        "\n",
        "print(y_train.shape, y_test.shape)\n",
        "print(y_train[0])"
      ],
      "execution_count": 0,
      "outputs": [
        {
          "output_type": "stream",
          "text": [
            "5 5 5\n",
            "(208,)\n",
            "(208,) (103,)\n",
            "0\n"
          ],
          "name": "stdout"
        }
      ]
    },
    {
      "cell_type": "code",
      "metadata": {
        "id": "vMj4clvT1Lxn",
        "colab_type": "code",
        "colab": {}
      },
      "source": [
        "# Constants & Hyper-Parameters\n",
        "NB_EPOCH = 7\n",
        "BATCH_SIZE = 64\n",
        "VERBOSE = 1\n",
        "OPTIMIZER = Adam()\n",
        "VALIDATION_SPLIT = 0.2\n",
        "IMG_ROWS, IMG_COLS = X_train.shape[1:]\n",
        "NB_CLASSES = len(np.unique(imgClass))+1\n",
        "INPUT_SHAPE = (1, IMG_ROWS, IMG_COLS)"
      ],
      "execution_count": 0,
      "outputs": []
    },
    {
      "cell_type": "code",
      "metadata": {
        "id": "xviJYlwn1QCD",
        "colab_type": "code",
        "outputId": "c7c7e3de-cb21-48a9-cb58-19d1f5fc7e5a",
        "colab": {
          "base_uri": "https://localhost:8080/",
          "height": 51
        }
      },
      "source": [
        "# Setting Image ordering to theano : (channels, rows, columns)\n",
        "# Updated keras uses this command\n",
        "K.set_image_data_format('channels_first')\n",
        "#K.set_image_dim_ordering('th')\n",
        "\n",
        "# Normalize\n",
        "X_train = X_train.astype('float32')\n",
        "X_test = X_test.astype('float32')\n",
        "X_train /= 255\n",
        "X_test /= 255\n",
        "\n",
        "print(X_train.shape, 'train samples previous')\n",
        "# we need a 60K x [1 x 28 x 28] shape as input to the CONVNET\n",
        "X_train = X_train[:, np.newaxis, :, :]\n",
        "X_test = X_test[:, np.newaxis, :, :]\n",
        "print(X_train.shape, 'train samples')\n",
        "\n",
        "# convert class vectors to binary class matrices\n",
        "y_train = np_utils.to_categorical(y_train, NB_CLASSES)\n",
        "y_test = np_utils.to_categorical(y_test, NB_CLASSES)"
      ],
      "execution_count": 0,
      "outputs": [
        {
          "output_type": "stream",
          "text": [
            "(208, 78, 78) train samples previous\n",
            "(208, 1, 78, 78) train samples\n"
          ],
          "name": "stdout"
        }
      ]
    },
    {
      "cell_type": "code",
      "metadata": {
        "id": "cQ_XgYal1aUg",
        "colab_type": "code",
        "outputId": "dd96a4c7-4eeb-4d24-9584-7a4363a27d2c",
        "colab": {
          "base_uri": "https://localhost:8080/",
          "height": 989
        }
      },
      "source": [
        "model = LeNet.build(input_shape=INPUT_SHAPE, classes=NB_CLASSES)\n",
        "\n",
        "model.compile(loss=\"categorical_crossentropy\", optimizer=OPTIMIZER, \n",
        "              metrics=[\"accuracy\"])\n",
        "\n",
        "history = model.fit(X_train, y_train, \n",
        "                    batch_size=BATCH_SIZE, epochs=NB_EPOCH,\n",
        "                    verbose=1, validation_split=VALIDATION_SPLIT,\n",
        "                   use_multiprocessing=True)\n",
        "\n",
        "score = model.evaluate(X_test, y_test, verbose=VERBOSE)\n",
        "\n",
        "print(\"Test score:\", score[0], '\\nTest accuracy:', score[1])\n"
      ],
      "execution_count": 0,
      "outputs": [
        {
          "output_type": "stream",
          "text": [
            "Model: \"sequential\"\n",
            "_________________________________________________________________\n",
            "Layer (type)                 Output Shape              Param #   \n",
            "=================================================================\n",
            "conv2d (Conv2D)              (None, 32, 78, 78)        832       \n",
            "_________________________________________________________________\n",
            "activation (Activation)      (None, 32, 78, 78)        0         \n",
            "_________________________________________________________________\n",
            "batch_normalization (BatchNo (None, 32, 78, 78)        312       \n",
            "_________________________________________________________________\n",
            "max_pooling2d (MaxPooling2D) (None, 32, 39, 39)        0         \n",
            "_________________________________________________________________\n",
            "dropout (Dropout)            (None, 32, 39, 39)        0         \n",
            "_________________________________________________________________\n",
            "flatten (Flatten)            (None, 48672)             0         \n",
            "_________________________________________________________________\n",
            "activation_1 (Activation)    (None, 48672)             0         \n",
            "_________________________________________________________________\n",
            "batch_normalization_1 (Batch (None, 48672)             194688    \n",
            "_________________________________________________________________\n",
            "dropout_1 (Dropout)          (None, 48672)             0         \n",
            "_________________________________________________________________\n",
            "dense (Dense)                (None, 40)                1946920   \n",
            "_________________________________________________________________\n",
            "activation_2 (Activation)    (None, 40)                0         \n",
            "_________________________________________________________________\n",
            "batch_normalization_2 (Batch (None, 40)                160       \n",
            "_________________________________________________________________\n",
            "dropout_2 (Dropout)          (None, 40)                0         \n",
            "_________________________________________________________________\n",
            "dense_1 (Dense)              (None, 6)                 246       \n",
            "_________________________________________________________________\n",
            "activation_3 (Activation)    (None, 6)                 0         \n",
            "=================================================================\n",
            "Total params: 2,143,158\n",
            "Trainable params: 2,045,578\n",
            "Non-trainable params: 97,580\n",
            "_________________________________________________________________\n",
            "Train on 166 samples, validate on 42 samples\n",
            "Epoch 1/7\n",
            "166/166 [==============================] - 7s 44ms/sample - loss: 1.5751 - accuracy: 0.4880 - val_loss: 1.6523 - val_accuracy: 0.2143\n",
            "Epoch 2/7\n",
            "166/166 [==============================] - 0s 257us/sample - loss: 0.3934 - accuracy: 0.9157 - val_loss: 1.5834 - val_accuracy: 0.2619\n",
            "Epoch 3/7\n",
            "166/166 [==============================] - 0s 240us/sample - loss: 0.2138 - accuracy: 0.9639 - val_loss: 1.3177 - val_accuracy: 0.5476\n",
            "Epoch 4/7\n",
            "166/166 [==============================] - 0s 250us/sample - loss: 0.1416 - accuracy: 0.9819 - val_loss: 1.1014 - val_accuracy: 0.7619\n",
            "Epoch 5/7\n",
            "166/166 [==============================] - 0s 249us/sample - loss: 0.1021 - accuracy: 1.0000 - val_loss: 1.0351 - val_accuracy: 0.8571\n",
            "Epoch 6/7\n",
            "166/166 [==============================] - 0s 256us/sample - loss: 0.0835 - accuracy: 1.0000 - val_loss: 1.1076 - val_accuracy: 0.6190\n",
            "Epoch 7/7\n",
            "166/166 [==============================] - 0s 268us/sample - loss: 0.0541 - accuracy: 1.0000 - val_loss: 1.2588 - val_accuracy: 0.4048\n",
            "103/103 [==============================] - 0s 290us/sample - loss: 1.2802 - accuracy: 0.4078\n",
            "Test score: 1.280151100991999 \n",
            "Test accuracy: 0.407767\n"
          ],
          "name": "stdout"
        }
      ]
    },
    {
      "cell_type": "code",
      "metadata": {
        "id": "ReVjJKFq3-jo",
        "colab_type": "code",
        "outputId": "d5460a2b-cf7c-4a16-fcc0-dda78c1ca311",
        "colab": {
          "base_uri": "https://localhost:8080/",
          "height": 590
        }
      },
      "source": [
        "# list all data in history\n",
        "print(history.history.keys())\n",
        "\n",
        "# summarize history for accuracy\n",
        "plt.plot(history.history['accuracy'])\n",
        "plt.plot(history.history['val_accuracy'])\n",
        "plt.title('model accuracy')\n",
        "plt.ylabel('accuracy')\n",
        "plt.xlabel('epoch')\n",
        "plt.legend(['train', 'test'], loc='upper left')\n",
        "plt.show()\n",
        "\n",
        "# summarize history for loss\n",
        "plt.plot(history.history['loss'])\n",
        "plt.plot(history.history['val_loss'])\n",
        "plt.title('model loss')\n",
        "plt.ylabel('loss')\n",
        "plt.xlabel('epoch')\n",
        "plt.legend(['train', 'test'], loc='upper left')\n",
        "plt.show()"
      ],
      "execution_count": 0,
      "outputs": [
        {
          "output_type": "stream",
          "text": [
            "dict_keys(['loss', 'accuracy', 'val_loss', 'val_accuracy'])\n"
          ],
          "name": "stdout"
        },
        {
          "output_type": "display_data",
          "data": {
            "image/png": "[encoded data removed]",
            "text/plain": [
              "<Figure size 432x288 with 1 Axes>"
            ]
          },
          "metadata": {
            "tags": []
          }
        },
        {
          "output_type": "display_data",
          "data": {
            "image/png": "[encoded data removed]",
            "text/plain": [
              "<Figure size 432x288 with 1 Axes>"
            ]
          },
          "metadata": {
            "tags": []
          }
        }
      ]
    }
  ]
}